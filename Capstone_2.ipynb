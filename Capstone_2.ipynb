{
  "nbformat": 4,
  "nbformat_minor": 0,
  "metadata": {
    "kernelspec": {
      "display_name": "Python 3",
      "language": "python",
      "name": "python3"
    },
    "language_info": {
      "codemirror_mode": {
        "name": "ipython",
        "version": 3
      },
      "file_extension": ".py",
      "mimetype": "text/x-python",
      "name": "python",
      "nbconvert_exporter": "python",
      "pygments_lexer": "ipython3",
      "version": "3.7.4"
    },
    "colab": {
      "name": "Capstone 2.ipynb",
      "provenance": [],
      "include_colab_link": true
    }
  },
  "cells": [
    {
      "cell_type": "markdown",
      "metadata": {
        "id": "view-in-github",
        "colab_type": "text"
      },
      "source": [
        "<a href=\"https://colab.research.google.com/github/nteuthorn/Thinkful-Capstone-2/blob/master/Capstone_2.ipynb\" target=\"_parent\"><img src=\"https://colab.research.google.com/assets/colab-badge.svg\" alt=\"Open In Colab\"/></a>"
      ]
    },
    {
      "cell_type": "code",
      "metadata": {
        "id": "zCiGyUSuoD0D",
        "colab": {
          "base_uri": "https://localhost:8080/"
        },
        "outputId": "11d2d494-48ee-4636-ec14-6022b0378458"
      },
      "source": [
        "from google.colab import drive\n",
        "drive.mount('/content/drive')"
      ],
      "execution_count": 1,
      "outputs": [
        {
          "output_type": "stream",
          "text": [
            "Mounted at /content/drive\n"
          ],
          "name": "stdout"
        }
      ]
    },
    {
      "cell_type": "code",
      "metadata": {
        "id": "Jw6j-Adan7hX"
      },
      "source": [
        "#Import libraries\n",
        "\n",
        "import pandas as pd\n",
        "import numpy as np\n",
        "import matplotlib.pyplot as plt\n",
        "import seaborn as sns\n",
        "import time\n",
        "import itertools\n",
        "import scipy.stats as stats\n",
        "from scipy.stats.mstats import winsorize\n",
        "\n",
        "from sklearn.model_selection import train_test_split, cross_val_score, GridSearchCV, RandomizedSearchCV\n",
        "from sklearn.decomposition import PCA\n",
        "from sklearn.dummy import DummyClassifier, DummyRegressor\n",
        "from sklearn.linear_model import LogisticRegression, LinearRegression\n",
        "from sklearn.ensemble import RandomForestRegressor, RandomForestClassifier, GradientBoostingClassifier, GradientBoostingRegressor\n",
        "from sklearn.svm import SVC, SVR\n",
        "from sklearn.preprocessing import StandardScaler\n",
        "from sklearn.metrics import confusion_matrix, plot_confusion_matrix, classification_report, f1_score\n",
        "from xgboost import XGBClassifier, XGBRegressor\n",
        "\n",
        "from imblearn.over_sampling import SMOTE\n",
        "from imblearn.under_sampling import RandomUnderSampler\n",
        "\n",
        "import tensorflow as tf\n",
        "from tensorflow import data\n",
        "from tensorflow.keras.models import Sequential \n",
        "from tensorflow.keras.layers import Dense, Dropout"
      ],
      "execution_count": 18,
      "outputs": []
    },
    {
      "cell_type": "code",
      "metadata": {
        "id": "aBrfMVcOn7hb"
      },
      "source": [
        "#Import 2015 and 2017 census data, change column names to be consistent across datasets\n",
        "\n",
        "df2015 = pd.read_csv('/content/drive/MyDrive/Data Science Projects/Thinkful/Completed/Capstone 2/acs2015_census_tract_data.csv')\n",
        "\n",
        "df2017 = pd.read_csv('/content/drive/MyDrive/Data Science Projects/Thinkful/Completed/Capstone 2/acs2017_census_tract_data.csv')\n",
        "df2017.rename({'TractId': 'CensusTract', 'VotingAgeCitizen': 'Citizen'}, axis=1, inplace=True)"
      ],
      "execution_count": 2,
      "outputs": []
    },
    {
      "cell_type": "code",
      "metadata": {
        "id": "yKk4JCEJn7hd"
      },
      "source": [
        "# #Change count statistics to percentages based on total population; remove %women because of perfect multicollinearity with %men\n",
        "\n",
        "# df2015['Men'] = df2015['Men']/df2015['TotalPop']\n",
        "# df2015['Citizen'] = df2015['Citizen']/df2015['TotalPop']\n",
        "# df2015['Employed'] = df2015['Employed']/df2015['TotalPop']\n",
        "# df2015.drop(['CensusTract', 'Women'], axis=1, inplace=True)\n",
        "\n",
        "# df2017['Men'] = df2017['Men']/df2017['TotalPop']\n",
        "# df2017['Citizen'] = df2017['Citizen']/df2017['TotalPop']\n",
        "# df2017['Employed'] = df2017['Employed']/df2017['TotalPop']\n",
        "# df2017.drop(['CensusTract', 'Women'], axis=1, inplace=True)"
      ],
      "execution_count": 3,
      "outputs": []
    },
    {
      "cell_type": "code",
      "metadata": {
        "id": "XbokZheHn7hf",
        "colab": {
          "base_uri": "https://localhost:8080/"
        },
        "outputId": "97151f2f-19ce-49c6-b687-7be49f6f4c3c"
      },
      "source": [
        "df2015.info()"
      ],
      "execution_count": 4,
      "outputs": [
        {
          "output_type": "stream",
          "text": [
            "<class 'pandas.core.frame.DataFrame'>\n",
            "RangeIndex: 74001 entries, 0 to 74000\n",
            "Data columns (total 37 columns):\n",
            " #   Column           Non-Null Count  Dtype  \n",
            "---  ------           --------------  -----  \n",
            " 0   CensusTract      74001 non-null  int64  \n",
            " 1   State            74001 non-null  object \n",
            " 2   County           74001 non-null  object \n",
            " 3   TotalPop         74001 non-null  int64  \n",
            " 4   Men              74001 non-null  int64  \n",
            " 5   Women            74001 non-null  int64  \n",
            " 6   Hispanic         73311 non-null  float64\n",
            " 7   White            73311 non-null  float64\n",
            " 8   Black            73311 non-null  float64\n",
            " 9   Native           73311 non-null  float64\n",
            " 10  Asian            73311 non-null  float64\n",
            " 11  Pacific          73311 non-null  float64\n",
            " 12  Citizen          74001 non-null  int64  \n",
            " 13  Income           72901 non-null  float64\n",
            " 14  IncomeErr        72901 non-null  float64\n",
            " 15  IncomePerCap     73261 non-null  float64\n",
            " 16  IncomePerCapErr  73261 non-null  float64\n",
            " 17  Poverty          73166 non-null  float64\n",
            " 18  ChildPoverty     72883 non-null  float64\n",
            " 19  Professional     73194 non-null  float64\n",
            " 20  Service          73194 non-null  float64\n",
            " 21  Office           73194 non-null  float64\n",
            " 22  Construction     73194 non-null  float64\n",
            " 23  Production       73194 non-null  float64\n",
            " 24  Drive            73204 non-null  float64\n",
            " 25  Carpool          73204 non-null  float64\n",
            " 26  Transit          73204 non-null  float64\n",
            " 27  Walk             73204 non-null  float64\n",
            " 28  OtherTransp      73204 non-null  float64\n",
            " 29  WorkAtHome       73204 non-null  float64\n",
            " 30  MeanCommute      73052 non-null  float64\n",
            " 31  Employed         74001 non-null  int64  \n",
            " 32  PrivateWork      73194 non-null  float64\n",
            " 33  PublicWork       73194 non-null  float64\n",
            " 34  SelfEmployed     73194 non-null  float64\n",
            " 35  FamilyWork       73194 non-null  float64\n",
            " 36  Unemployment     73199 non-null  float64\n",
            "dtypes: float64(29), int64(6), object(2)\n",
            "memory usage: 20.9+ MB\n"
          ],
          "name": "stdout"
        }
      ]
    },
    {
      "cell_type": "code",
      "metadata": {
        "id": "QtMIB1vFn7hi"
      },
      "source": [
        "#Create df_diff as change from 2015 to 2017\n",
        "#Add Poverty_Change variable as categorical, -1=significant decrease in poverty, 0=no significant change, +1=significant increase in poverty\n",
        "\n",
        "df_diff = df2017[['Poverty']].copy()\n",
        "df_diff['Poverty'] = df2017['Poverty'] - df2015['Poverty']\n",
        "df_diff['Poverty_Change'] = 1\n",
        "df_diff.loc[(df_diff['Poverty'] >= 1.5), 'Poverty_Change'] = 2\n",
        "df_diff.loc[(df_diff['Poverty'] <= -1.5), 'Poverty_Change'] = 0\n",
        "\n",
        "#Add poverty change to 2015 dataset\n",
        "df2015['Poverty_Change'] = df_diff['Poverty_Change']\n",
        "df2015['Poverty_Change_val'] = df_diff['Poverty']\n",
        "\n",
        "df2015['Poverty_Change_2c'] = 0\n",
        "df2015.loc[(df2015['Poverty_Change_val'] > 0), 'Poverty_Change_2c'] = 1\n",
        "\n",
        "df2015['Poverty_Change_2c_2'] = 0\n",
        "df2015.loc[(df2015['Poverty_Change_val'] > 1.5), 'Poverty_Change_2c_2'] = 1"
      ],
      "execution_count": 5,
      "outputs": []
    },
    {
      "cell_type": "code",
      "metadata": {
        "colab": {
          "base_uri": "https://localhost:8080/",
          "height": 265
        },
        "id": "kQtr5Vf5SYLl",
        "outputId": "34642668-e106-48b4-fe43-2e96857c665c"
      },
      "source": [
        "plt.hist(df2015['Poverty_Change'])\n",
        "plt.show()"
      ],
      "execution_count": 6,
      "outputs": [
        {
          "output_type": "display_data",
          "data": {
            "image/png": "[encoded data removed]",
            "text/plain": [
              "<Figure size 432x288 with 1 Axes>"
            ]
          },
          "metadata": {
            "tags": [],
            "needs_background": "light"
          }
        }
      ]
    },
    {
      "cell_type": "code",
      "metadata": {
        "colab": {
          "base_uri": "https://localhost:8080/",
          "height": 265
        },
        "id": "lOe50_dNVMi6",
        "outputId": "5b64c80f-b201-48ce-dd32-f0d97b39dee5"
      },
      "source": [
        "plt.hist(df2015['Poverty_Change_2c'])\n",
        "plt.show()"
      ],
      "execution_count": 7,
      "outputs": [
        {
          "output_type": "display_data",
          "data": {
            "image/png": "[encoded data removed]",
            "text/plain": [
              "<Figure size 432x288 with 1 Axes>"
            ]
          },
          "metadata": {
            "tags": [],
            "needs_background": "light"
          }
        }
      ]
    },
    {
      "cell_type": "code",
      "metadata": {
        "colab": {
          "base_uri": "https://localhost:8080/",
          "height": 265
        },
        "id": "9V1VpfxFY_DZ",
        "outputId": "5537d9f0-a0d5-4e2d-8b85-93362ccfa426"
      },
      "source": [
        "plt.hist(df2015['Poverty_Change_2c_2'])\n",
        "plt.show()"
      ],
      "execution_count": 8,
      "outputs": [
        {
          "output_type": "display_data",
          "data": {
            "image/png": "[encoded data removed]",
            "text/plain": [
              "<Figure size 432x288 with 1 Axes>"
            ]
          },
          "metadata": {
            "tags": [],
            "needs_background": "light"
          }
        }
      ]
    },
    {
      "cell_type": "code",
      "metadata": {
        "id": "xQCcHMQsn7hl"
      },
      "source": [
        "# #Create PCA components for a combination of 'State' and 'County' variables\n",
        "\n",
        "# pca = PCA(n_components=10)\n",
        "# principal_components = pca.fit_transform(pd.concat([pd.get_dummies(df2015['State']), pd.get_dummies(df2015['County'])], axis=1))\n",
        "\n",
        "# principalDf = pd.DataFrame(data = principal_components)\n",
        "# df2015 = pd.concat([df2015, principalDf], axis=1)"
      ],
      "execution_count": 9,
      "outputs": []
    },
    {
      "cell_type": "code",
      "metadata": {
        "id": "XVAUafIYn7ho"
      },
      "source": [
        "#Drop null values\n",
        "\n",
        "df2015.dropna(inplace=True)\n",
        "df_diff.dropna(inplace=True)"
      ],
      "execution_count": 10,
      "outputs": []
    },
    {
      "cell_type": "code",
      "metadata": {
        "id": "0wRFF2LJn7hs"
      },
      "source": [
        "# #Winsorize outliers\n",
        "\n",
        "# for col in df2015.columns[2:]:\n",
        "#     threshold = 5\n",
        "#     q75, q25 = np.percentile(df2015[col], [75,25])\n",
        "#     iqr = q75-q25\n",
        "#     min_val = q25 - (iqr*threshold)\n",
        "#     max_val = q75 + (iqr*threshold)\n",
        "\n",
        "#     outliers = df2015[(df2015[col] > max_val) | (df2015[col] < min_val)]\n",
        "#     print(col)\n",
        "#     print('There are {} tracts identified as outliers.'.format(outliers.shape[0]))\n",
        "\n",
        "#     df2015[col] = pd.Series(winsorize(df2015[col], limits = (outliers.shape[0]/df2015[col].shape[0])))\n",
        "\n",
        "# for col in df_diff.columns:\n",
        "#     threshold = 3\n",
        "#     q75, q25 = np.percentile(df_diff[col], [75,25])\n",
        "#     iqr = q75-q25\n",
        "#     min_val = q25 - (iqr*threshold)\n",
        "#     max_val = q75 + (iqr*threshold)\n",
        "\n",
        "#     outliers = df_diff[(df_diff[col] > max_val) | (df_diff[col] < min_val)]\n",
        "#     print(col)\n",
        "#     print('There are {} tracts identified as outliers.'.format(outliers.shape[0]))\n",
        "\n",
        "#     df_diff[col] = pd.Series(winsorize(df_diff[col], limits = (outliers.shape[0]/df_diff[col].shape[0])))"
      ],
      "execution_count": 11,
      "outputs": []
    },
    {
      "cell_type": "code",
      "metadata": {
        "id": "Dm6TU7nEn7hu"
      },
      "source": [
        "# #Drop null values\n",
        "\n",
        "# df2015.dropna(inplace=True)\n",
        "# df_diff.dropna(inplace=True)"
      ],
      "execution_count": 12,
      "outputs": []
    },
    {
      "cell_type": "code",
      "metadata": {
        "id": "UY7sQhwHn7hx"
      },
      "source": [
        "#Create y-variable as categorical poverty change, X variable as all 2015 statistics\n",
        "#Perform train test split; also create \"small\" dataset for faster computation during testing\n",
        "#Create scaled dataset for use when necessary\n",
        "\n",
        "y = df2015['Poverty_Change']\n",
        "y_2c = df2015['Poverty_Change_2c']\n",
        "y_2c_2 = df2015['Poverty_Change_2c_2']\n",
        "\n",
        "#Remove ChildPoverty and PrivateWork for too much correlation with Poverty and PublicWork respectively\n",
        "\n",
        "X = df2015.drop(['State', 'County', 'Poverty_Change', 'Poverty_Change_val', 'Poverty_Change_2c', 'Poverty_Change_2c_2'], axis=1)\n",
        "\n",
        "# df_small = df2015.sample(frac=0.1)\n",
        "# y_small = df_small['Poverty_Change_2c']\n",
        "# X_small = df_small.drop(['State', 'County', 'Poverty_Change', 'Poverty_Change_val', 'Poverty_Change_2c'], axis=1)\n",
        "\n",
        "X_train, X_test, y_train, y_test = train_test_split(X,y,test_size=0.2)\n",
        "X_train_2c, X_test_2c, y_train_2c, y_test_2c = train_test_split(X,y_2c,test_size=0.2)\n",
        "X_train_2c_2, X_test_2c_2, y_train_2c_2, y_test_2c_2 = train_test_split(X,y_2c_2,test_size=0.2)\n",
        "# X_train_s, X_test_s, y_train_s, y_test_s = train_test_split(X_small,y_small,test_size=0.2)\n",
        "\n",
        "scaler = StandardScaler()\n",
        "X_train_scale = pd.DataFrame(scaler.fit_transform(X_train), columns = X_train.columns)\n",
        "X_test_scale = pd.DataFrame(scaler.transform(X_test), columns = X_test.columns)\n",
        "X_train_scale_2c = pd.DataFrame(scaler.fit_transform(X_train_2c), columns = X_train_2c.columns)\n",
        "X_test_scale_2c = pd.DataFrame(scaler.transform(X_test_2c), columns = X_test_2c.columns)\n",
        "X_train_scale_2c_2 = pd.DataFrame(scaler.fit_transform(X_train_2c_2), columns = X_train_2c_2.columns)\n",
        "X_test_scale_2c_2 = pd.DataFrame(scaler.transform(X_test_2c_2), columns = X_test_2c_2.columns)\n",
        "# X_train_s_scale = pd.DataFrame(scaler.fit_transform(X_train_s), columns = X_train_s.columns)\n",
        "# X_test_s_scale = pd.DataFrame(scaler.fit_transform(X_test_s), columns = X_test_s.columns)"
      ],
      "execution_count": 13,
      "outputs": []
    },
    {
      "cell_type": "code",
      "metadata": {
        "id": "hH2TPVjLn7hz",
        "colab": {
          "base_uri": "https://localhost:8080/"
        },
        "outputId": "b6094777-44cc-4222-8934-0c6eff9e34ca"
      },
      "source": [
        "#Oversample training data to equalize class sizes\n",
        "\n",
        "sm = SMOTE()\n",
        "\n",
        "X_train_res, y_train_res = sm.fit_resample(X_train_scale, y_train)\n",
        "X_train_res_2c, y_train_res_2c = sm.fit_resample(X_train_scale_2c, y_train_2c)\n",
        "X_train_res_2c_2, y_train_res_2c_2 = sm.fit_resample(X_train_scale_2c_2, y_train_2c_2)"
      ],
      "execution_count": 14,
      "outputs": [
        {
          "output_type": "stream",
          "text": [
            "/usr/local/lib/python3.6/dist-packages/sklearn/utils/deprecation.py:87: FutureWarning: Function safe_indexing is deprecated; safe_indexing is deprecated in version 0.22 and will be removed in version 0.24.\n",
            "  warnings.warn(msg, category=FutureWarning)\n",
            "/usr/local/lib/python3.6/dist-packages/sklearn/utils/deprecation.py:87: FutureWarning: Function safe_indexing is deprecated; safe_indexing is deprecated in version 0.22 and will be removed in version 0.24.\n",
            "  warnings.warn(msg, category=FutureWarning)\n",
            "/usr/local/lib/python3.6/dist-packages/sklearn/utils/deprecation.py:87: FutureWarning: Function safe_indexing is deprecated; safe_indexing is deprecated in version 0.22 and will be removed in version 0.24.\n",
            "  warnings.warn(msg, category=FutureWarning)\n",
            "/usr/local/lib/python3.6/dist-packages/sklearn/utils/deprecation.py:87: FutureWarning: Function safe_indexing is deprecated; safe_indexing is deprecated in version 0.22 and will be removed in version 0.24.\n",
            "  warnings.warn(msg, category=FutureWarning)\n"
          ],
          "name": "stderr"
        }
      ]
    },
    {
      "cell_type": "code",
      "metadata": {
        "scrolled": true,
        "id": "9rdLKjonn7h2",
        "colab": {
          "base_uri": "https://localhost:8080/",
          "height": 332
        },
        "outputId": "d0331acf-ecff-4ae5-846d-da884adf08cd"
      },
      "source": [
        "#Perform dummy classification for baseline\n",
        "\n",
        "dummy = DummyClassifier(strategy = 'most_frequent')\n",
        "dummy.fit(X_train, y_train)\n",
        "\n",
        "print(dummy.score(X_train, y_train))\n",
        "print(dummy.score(X_test, y_test))\n",
        "\n",
        "plot_confusion_matrix(dummy, X_test, y_test, cmap='Blues')"
      ],
      "execution_count": 16,
      "outputs": [
        {
          "output_type": "stream",
          "text": [
            "0.3873496046751461\n",
            "0.3891791557816582\n"
          ],
          "name": "stdout"
        },
        {
          "output_type": "execute_result",
          "data": {
            "text/plain": [
              "<sklearn.metrics._plot.confusion_matrix.ConfusionMatrixDisplay at 0x7f3d7fb44550>"
            ]
          },
          "metadata": {
            "tags": []
          },
          "execution_count": 16
        },
        {
          "output_type": "display_data",
          "data": {
            "image/png": "[encoded data removed]",
            "text/plain": [
              "<Figure size 432x288 with 2 Axes>"
            ]
          },
          "metadata": {
            "tags": [],
            "needs_background": "light"
          }
        }
      ]
    },
    {
      "cell_type": "code",
      "metadata": {
        "id": "2rKBDoikn7h5",
        "colab": {
          "base_uri": "https://localhost:8080/",
          "height": 332
        },
        "outputId": "df7c8654-ded9-48cf-f0b2-43ed878aab2f"
      },
      "source": [
        "#Perform dummy classification for baseline\n",
        "\n",
        "dummy_2c = DummyClassifier(strategy = 'most_frequent')\n",
        "dummy_2c.fit(X_train_2c, y_train_2c)\n",
        "\n",
        "print(dummy_2c.score(X_train_2c, y_train_2c))\n",
        "print(dummy_2c.score(X_test_2c, y_test_2c))\n",
        "\n",
        "plot_confusion_matrix(dummy_2c, X_test_2c, y_test_2c, cmap='Blues')"
      ],
      "execution_count": null,
      "outputs": [
        {
          "output_type": "stream",
          "text": [
            "0.5805431419731867\n",
            "0.5735597415096934\n"
          ],
          "name": "stdout"
        },
        {
          "output_type": "execute_result",
          "data": {
            "text/plain": [
              "<sklearn.metrics._plot.confusion_matrix.ConfusionMatrixDisplay at 0x7f9a460e2ba8>"
            ]
          },
          "metadata": {
            "tags": []
          },
          "execution_count": 14
        },
        {
          "output_type": "display_data",
          "data": {
            "image/png": "[encoded data removed]",
            "text/plain": [
              "<Figure size 432x288 with 2 Axes>"
            ]
          },
          "metadata": {
            "tags": [],
            "needs_background": "light"
          }
        }
      ]
    },
    {
      "cell_type": "markdown",
      "metadata": {
        "id": "ET57xwy4n7h8"
      },
      "source": [
        "# Multiple models were analyzed, including logistic regression, support vector machines, random forest, and gradient boosting models. Models were tested on unmodified training data (scaled where appropriate) and oversampled data. Logistic regression trained on oversampled data was determined to be the best model due to highest recall for the +1 class while maintaining a similar overall accuracy score to the other models."
      ]
    },
    {
      "cell_type": "markdown",
      "metadata": {
        "id": "oY3yNz_xn7h8"
      },
      "source": [
        "Perform analysis on a series of logistic regression models to identify best parameters"
      ]
    },
    {
      "cell_type": "code",
      "metadata": {
        "id": "QmbHjvIRn7h9",
        "colab": {
          "base_uri": "https://localhost:8080/",
          "height": 350
        },
        "outputId": "44794282-7220-478c-fa9d-1519966555c3"
      },
      "source": [
        "#Logistic regression model: poor predictor of +1 class\n",
        "\n",
        "start_time = time.time()\n",
        "\n",
        "logit = LogisticRegression(max_iter=10000)\n",
        "\n",
        "logit.fit(X_train_scale, y_train)\n",
        "\n",
        "print(\"--- %s seconds ---\" % (time.time() - start_time))\n",
        "\n",
        "plot_confusion_matrix(logit, X_test_scale, y_test, cmap='Blues')\n",
        "print(f'The train accuracy score is {round(logit.score(X_train_scale, y_train)*100,2)}%.')\n",
        "print(f'The test accuracy score is {round(logit.score(X_test_scale, y_test)*100,2)}%.')\n",
        "print(f'The 2 class F1 score is {round(f1_score(y_test, logit.predict(X_test_scale), average=None)[2]*100,2)}%.')"
      ],
      "execution_count": 26,
      "outputs": [
        {
          "output_type": "stream",
          "text": [
            "--- 6.911752462387085 seconds ---\n",
            "The train accuracy score is 51.79%.\n",
            "The test accuracy score is 52.03%.\n",
            "The 2 class F1 score is 21.54%.\n"
          ],
          "name": "stdout"
        },
        {
          "output_type": "display_data",
          "data": {
            "image/png": "[encoded data removed]",
            "text/plain": [
              "<Figure size 432x288 with 2 Axes>"
            ]
          },
          "metadata": {
            "tags": [],
            "needs_background": "light"
          }
        }
      ]
    },
    {
      "cell_type": "code",
      "metadata": {
        "id": "mgwwur6Kn7iA",
        "colab": {
          "base_uri": "https://localhost:8080/",
          "height": 350
        },
        "outputId": "3b440df4-b6c3-48aa-9765-e8576045b54f"
      },
      "source": [
        "#Logistic regression model with oversampled data: overfits to +1 class\n",
        "\n",
        "start_time = time.time()\n",
        "\n",
        "logit_res = LogisticRegression(max_iter=10000)\n",
        "\n",
        "logit_res.fit(X_train_res, y_train_res)\n",
        "\n",
        "print(\"--- %s seconds ---\" % (time.time() - start_time))\n",
        "\n",
        "plot_confusion_matrix(logit_res, X_test_scale, y_test, cmap='Blues')\n",
        "print(f'The train accuracy score is {round(logit_res.score(X_train_scale, y_train)*100,2)}%.')\n",
        "print(f'The test accuracy score is {round(logit_res.score(X_test_scale, y_test)*100,2)}%.')\n",
        "print(f'The 2 class F1 score is {round(f1_score(y_test, logit_res.predict(X_test_scale), average=None)[2]*100,2)}%.')"
      ],
      "execution_count": 27,
      "outputs": [
        {
          "output_type": "stream",
          "text": [
            "--- 6.030704736709595 seconds ---\n",
            "The train accuracy score is 49.32%.\n",
            "The test accuracy score is 49.77%.\n",
            "The 2 class F1 score is 37.91%.\n"
          ],
          "name": "stdout"
        },
        {
          "output_type": "display_data",
          "data": {
            "image/png": "[encoded data removed]",
            "text/plain": [
              "<Figure size 432x288 with 2 Axes>"
            ]
          },
          "metadata": {
            "tags": [],
            "needs_background": "light"
          }
        }
      ]
    },
    {
      "cell_type": "code",
      "metadata": {
        "id": "J_CS1eO2n7iC",
        "colab": {
          "base_uri": "https://localhost:8080/",
          "height": 350
        },
        "outputId": "f8419d45-ab1b-4b06-831a-7b33a54174eb"
      },
      "source": [
        "#2 category: cannot predict +1 class\n",
        "\n",
        "start_time = time.time()\n",
        "\n",
        "logit_2c = LogisticRegression(max_iter=10000)\n",
        "\n",
        "logit_2c.fit(X_train_scale_2c, y_train_2c)\n",
        "\n",
        "print(\"--- %s seconds ---\" % (time.time() - start_time))\n",
        "\n",
        "plot_confusion_matrix(logit_2c, X_test_scale_2c, y_test_2c, cmap='Blues')\n",
        "print(f'The train accuracy score is {round(logit_2c.score(X_train_scale, y_train)*100,2)}%.')\n",
        "print(f'The test accuracy score is {round(logit_2c.score(X_test_scale, y_test)*100,2)}%.')\n",
        "print(f'The 2 class F1 score is {round(f1_score(y_test, logit_2c.predict(X_test_scale), average=None)[1]*100,2)}%.')"
      ],
      "execution_count": 38,
      "outputs": [
        {
          "output_type": "stream",
          "text": [
            "--- 2.113581418991089 seconds ---\n",
            "The train accuracy score is 45.52%.\n",
            "The test accuracy score is 45.52%.\n",
            "The 2 class F1 score is 37.49%.\n"
          ],
          "name": "stdout"
        },
        {
          "output_type": "display_data",
          "data": {
            "image/png": "[encoded data removed]",
            "text/plain": [
              "<Figure size 432x288 with 2 Axes>"
            ]
          },
          "metadata": {
            "tags": [],
            "needs_background": "light"
          }
        }
      ]
    },
    {
      "cell_type": "code",
      "metadata": {
        "id": "kgD3keqLn7iE",
        "colab": {
          "base_uri": "https://localhost:8080/",
          "height": 350
        },
        "outputId": "d15557f3-f227-4c8e-83ae-a817b8eb29fd"
      },
      "source": [
        "#2 category with resample: worse\n",
        "\n",
        "start_time = time.time()\n",
        "\n",
        "logit_res_2c = LogisticRegression(max_iter=10000)\n",
        "\n",
        "logit_res_2c.fit(X_train_res_2c, y_train_res_2c)\n",
        "\n",
        "print(\"--- %s seconds ---\" % (time.time() - start_time))\n",
        "\n",
        "plot_confusion_matrix(logit_res_2c, X_test_2c, y_test_2c, cmap='Blues')\n",
        "print(f'The train accuracy score is {round(logit_res_2c.score(X_train_scale, y_train)*100,2)}%.')\n",
        "print(f'The test accuracy score is {round(logit_res_2c.score(X_test_scale, y_test)*100,2)}%.')\n",
        "print(f'The 2 class F1 score is {round(f1_score(y_test, logit_res_2c.predict(X_test_scale), average=None)[1]*100,2)}%.')"
      ],
      "execution_count": 39,
      "outputs": [
        {
          "output_type": "stream",
          "text": [
            "--- 0.9690191745758057 seconds ---\n",
            "The train accuracy score is 49.16%.\n",
            "The test accuracy score is 49.18%.\n",
            "The 2 class F1 score is 53.81%.\n"
          ],
          "name": "stdout"
        },
        {
          "output_type": "display_data",
          "data": {
            "image/png": "[encoded data removed]",
            "text/plain": [
              "<Figure size 432x288 with 2 Axes>"
            ]
          },
          "metadata": {
            "tags": [],
            "needs_background": "light"
          }
        }
      ]
    },
    {
      "cell_type": "code",
      "metadata": {
        "id": "CoKrtE6EaBXY"
      },
      "source": [
        "# #2 category 2: \n",
        "\n",
        "# start_time = time.time()\n",
        "\n",
        "# logit_2c_2 = LogisticRegression(max_iter=10000)\n",
        "\n",
        "# logit_2c_2.fit(X_train_scale_2c_2, y_train_2c_2)\n",
        "\n",
        "# print(\"--- %s seconds ---\" % (time.time() - start_time))\n",
        "\n",
        "# plot_confusion_matrix(logit_2c_2, X_test_scale_2c_2, y_test_2c_2, cmap='Blues')\n",
        "# print(f'The train accuracy score is {round(logit_2c_2.score(X_train_scale, y_train)*100,2)}%.')\n",
        "# print(f'The test accuracy score is {round(logit_2c_2.score(X_test_scale, y_test)*100,2)}%.')\n",
        "# print(f'The 2 class F1 score is {round(f1_score(y_test, logit_2c_2.predict(X_test_scale), average=None)[2]*100,2)}%.')"
      ],
      "execution_count": 30,
      "outputs": []
    },
    {
      "cell_type": "code",
      "metadata": {
        "id": "18qPKkjGZ2BB"
      },
      "source": [
        "# #2 category 2 (combine 0 class and 1 class as single category): \n",
        "\n",
        "# start_time = time.time()\n",
        "\n",
        "# logit_res_2c_2 = LogisticRegression(max_iter=10000)\n",
        "\n",
        "# logit_res_2c_2.fit(X_train_res_2c_2, y_train_res_2c_2)\n",
        "\n",
        "# print(\"--- %s seconds ---\" % (time.time() - start_time))\n",
        "\n",
        "# plot_confusion_matrix(logit_res_2c_2, X_test_scale_2c_2, y_test_2c_2, cmap='Blues')\n",
        "# print(f'The train accuracy score is {round(logit_res_2c_2.score(X_train_scale, y_train)*100,2)}%.')\n",
        "# print(f'The test accuracy score is {round(logit_res_2c_2.score(X_test_scale, y_test)*100,2)}%.')\n",
        "# print(f'The 2 class F1 score is {round(f1_score(y_test, logit_res_2c_2.predict(X_test_scale), average=None)[2]*100,2)}%.')"
      ],
      "execution_count": 31,
      "outputs": []
    },
    {
      "cell_type": "code",
      "metadata": {
        "id": "Os1o3Cwpn7iI"
      },
      "source": [
        "# #Using saga solver: no improvement\n",
        "\n",
        "# start_time = time.time()\n",
        "\n",
        "# logit_res_saga = LogisticRegression(max_iter=10000, solver='saga')\n",
        "\n",
        "# logit_res_saga.fit(X_train_res, y_train_res)\n",
        "\n",
        "# print(\"--- %s seconds ---\" % (time.time() - start_time))\n",
        "\n",
        "# plot_confusion_matrix(logit_res_saga, X_test_scale, y_test, cmap='Blues')\n",
        "# print(f'The train accuracy score is {round(logit_res_saga.score(X_train_scale, y_train)*100,2)}%.')\n",
        "# print(f'The test accuracy score is {round(logit_res_saga.score(X_test_scale, y_test)*100,2)}%.')\n",
        "# print(f'The 2 class F1 score is {round(f1_score(y_test, logit_res_saga.predict(X_test_scale), average=None)[2]*100,2)}%.')"
      ],
      "execution_count": null,
      "outputs": []
    },
    {
      "cell_type": "code",
      "metadata": {
        "id": "PbOgp588n7iL"
      },
      "source": [
        "# #Using saga solver and l1 penalty: no improvement\n",
        "\n",
        "# start_time = time.time()\n",
        "\n",
        "# logit_res_saga2 = LogisticRegression(max_iter=10000, solver='saga', penalty='l1')\n",
        "\n",
        "# logit_res_saga2.fit(X_train_res, y_train_res)\n",
        "\n",
        "# print(\"--- %s seconds ---\" % (time.time() - start_time))\n",
        "\n",
        "# plot_confusion_matrix(logit_res_saga2, X_test_scale, y_test, cmap='Blues')\n",
        "# print(f'The train accuracy score is {round(logit_res_saga2.score(X_train_scale, y_train)*100,2)}%.')\n",
        "# print(f'The test accuracy score is {round(logit_res_saga2.score(X_test_scale, y_test)*100,2)}%.')\n",
        "# print(f'The 2 class F1 score is {round(f1_score(y_test, logit_res_saga2.predict(X_test_scale), average=None)[2]*100,2)}%.')"
      ],
      "execution_count": null,
      "outputs": []
    },
    {
      "cell_type": "code",
      "metadata": {
        "id": "LGAzUskVn7iN"
      },
      "source": [
        "# #Using saga solver and elasticnet penalty: no improvement\n",
        "\n",
        "# start_time = time.time()\n",
        "\n",
        "# logit_res_saga3 = LogisticRegression(max_iter=10000, solver='saga', penalty='elasticnet', l1_ratio=0.5)\n",
        "\n",
        "# logit_res_saga3.fit(X_train_res, y_train_res)\n",
        "\n",
        "# print(\"--- %s seconds ---\" % (time.time() - start_time))\n",
        "\n",
        "# plot_confusion_matrix(logit_res_saga3, X_test_scale, y_test, cmap='Blues')\n",
        "# print(f'The train accuracy score is {round(logit_res_saga3.score(X_train_scale, y_train)*100,2)}%.')\n",
        "# print(f'The test accuracy score is {round(logit_res_saga3.score(X_test_scale, y_test)*100,2)}%.')\n",
        "# print(f'The 2 class F1 score is {round(f1_score(y_test, logit_res_saga3.predict(X_test_scale), average=None)[2]*100,2)}%.')"
      ],
      "execution_count": null,
      "outputs": []
    },
    {
      "cell_type": "code",
      "metadata": {
        "id": "2-IxQSPIn7iP"
      },
      "source": [
        "# #Using saga solver and ovr comparison: no improvement\n",
        "\n",
        "# start_time = time.time()\n",
        "\n",
        "# logit_res_saga_ovr = LogisticRegression(max_iter=10000, solver='saga', multi_class='ovr')\n",
        "\n",
        "# logit_res_saga_ovr.fit(X_train_res, y_train_res)\n",
        "\n",
        "# print(\"--- %s seconds ---\" % (time.time() - start_time))\n",
        "\n",
        "# plot_confusion_matrix(logit_res_saga_ovr, X_test_scale, y_test, cmap='Blues')\n",
        "# print(f'The train accuracy score is {round(logit_res_saga_ovr.score(X_train_scale, y_train)*100,2)}%.')\n",
        "# print(f'The test accuracy score is {round(logit_res_saga_ovr.score(X_test_scale, y_test)*100,2)}%.')\n",
        "# print(f'The 2 class F1 score is {round(f1_score(y_test, logit_res_saga_ovr.predict(X_test_scale), average=None)[2]*100,2)}%.')"
      ],
      "execution_count": null,
      "outputs": []
    },
    {
      "cell_type": "code",
      "metadata": {
        "id": "5RuBlBh_n7iR"
      },
      "source": [
        "# #Using saga solver, l1 penalty and ovr comparison: no improvement\n",
        "\n",
        "# start_time = time.time()\n",
        "\n",
        "# logit_res_saga_ovr2 = LogisticRegression(max_iter=10000, solver='saga', multi_class='ovr', penalty='l1')\n",
        "\n",
        "# logit_res_saga_ovr2.fit(X_train_res, y_train_res)\n",
        "\n",
        "# print(\"--- %s seconds ---\" % (time.time() - start_time))\n",
        "\n",
        "# plot_confusion_matrix(logit_res_saga_ovr2, X_test_scale, y_test, cmap='Blues')\n",
        "# print(f'The train accuracy score is {round(logit_res_saga_ovr2.score(X_train_scale, y_train)*100,2)}%.')\n",
        "# print(f'The test accuracy score is {round(logit_res_saga_ovr2.score(X_test_scale, y_test)*100,2)}%.')\n",
        "# print(f'The 2 class F1 score is {round(f1_score(y_test, logit_res_saga_ovr2.predict(X_test_scale), average=None)[2]*100,2)}%.')"
      ],
      "execution_count": null,
      "outputs": []
    },
    {
      "cell_type": "code",
      "metadata": {
        "id": "7Zy7CMTHn7iT"
      },
      "source": [
        "# #Using saga solver, elasticnet penalty and ovr comparison: no improvement\n",
        "\n",
        "# start_time = time.time()\n",
        "\n",
        "# logit_res_saga_ovr3 = LogisticRegression(max_iter=10000, solver='saga', multi_class='ovr', penalty='elasticnet', l1_ratio=0.5)\n",
        "\n",
        "# logit_res_saga_ovr3.fit(X_train_res, y_train_res)\n",
        "\n",
        "# print(\"--- %s seconds ---\" % (time.time() - start_time))\n",
        "\n",
        "# plot_confusion_matrix(logit_res_saga_ovr3, X_test_scale, y_test, cmap='Blues')\n",
        "# print(f'The train accuracy score is {round(logit_res_saga_ovr3.score(X_train_scale, y_train)*100,2)}%.')\n",
        "# print(f'The test accuracy score is {round(logit_res_saga_ovr3.score(X_test_scale, y_test)*100,2)}%.')\n",
        "# print(f'The 2 class F1 score is {round(f1_score(y_test, logit_res_saga_ovr3.predict(X_test_scale), average=None)[2]*100,2)}%.')"
      ],
      "execution_count": null,
      "outputs": []
    },
    {
      "cell_type": "code",
      "metadata": {
        "id": "F75j48bnn7iV",
        "colab": {
          "base_uri": "https://localhost:8080/",
          "height": 350
        },
        "outputId": "f080228f-96aa-4d9a-a879-31b331e1c607"
      },
      "source": [
        "#Random forest model: poor predictor of +1 class\n",
        "\n",
        "start_time = time.time()\n",
        "\n",
        "forest = RandomForestClassifier(n_estimators=100, max_depth=4)\n",
        "\n",
        "forest.fit(X_train_scale, y_train)\n",
        "\n",
        "print(\"--- %s seconds ---\" % (time.time() - start_time))\n",
        "\n",
        "plot_confusion_matrix(forest, X_test_scale, y_test, cmap='Blues')\n",
        "print(f'The train accuracy score is {round(forest.score(X_train_scale, y_train)*100,2)}%.')\n",
        "print(f'The test accuracy score is {round(forest.score(X_test_scale, y_test)*100,2)}%.')\n",
        "print(f'The 2 class F1 score is {round(f1_score(y_test, forest.predict(X_test_scale), average=None)[2]*100,2)}%.')"
      ],
      "execution_count": 32,
      "outputs": [
        {
          "output_type": "stream",
          "text": [
            "--- 7.052691221237183 seconds ---\n",
            "The train accuracy score is 51.74%.\n",
            "The test accuracy score is 51.79%.\n",
            "The 2 class F1 score is 0.0%.\n"
          ],
          "name": "stdout"
        },
        {
          "output_type": "display_data",
          "data": {
            "image/png": "[encoded data removed]",
            "text/plain": [
              "<Figure size 432x288 with 2 Axes>"
            ]
          },
          "metadata": {
            "tags": [],
            "needs_background": "light"
          }
        }
      ]
    },
    {
      "cell_type": "code",
      "metadata": {
        "id": "1ipWwhZdn7iY",
        "colab": {
          "base_uri": "https://localhost:8080/",
          "height": 350
        },
        "outputId": "9ca6e6c2-d2db-4545-afd2-285b92e1ca04"
      },
      "source": [
        "#Random forest model with oversampled data: not a significant improvement\n",
        "\n",
        "start_time = time.time()\n",
        "\n",
        "forest_res = RandomForestClassifier(n_estimators=100, max_depth=4)\n",
        "\n",
        "forest_res.fit(X_train_res, y_train_res)\n",
        "\n",
        "print(\"--- %s seconds ---\" % (time.time() - start_time))\n",
        "\n",
        "plot_confusion_matrix(forest_res, X_test_scale, y_test, cmap='Blues')\n",
        "print(f'The train accuracy score is {round(forest_res.score(X_train_scale, y_train)*100,2)}%.')\n",
        "print(f'The test accuracy score is {round(forest_res.score(X_test_scale, y_test)*100,2)}%.')\n",
        "print(f'The 2 class F1 score is {round(f1_score(y_test, forest_res.predict(X_test_scale), average=None)[2]*100,2)}%.')"
      ],
      "execution_count": 33,
      "outputs": [
        {
          "output_type": "stream",
          "text": [
            "--- 9.839483976364136 seconds ---\n",
            "The train accuracy score is 51.89%.\n",
            "The test accuracy score is 52.13%.\n",
            "The 2 class F1 score is 25.89%.\n"
          ],
          "name": "stdout"
        },
        {
          "output_type": "display_data",
          "data": {
            "image/png": "[encoded data removed]",
            "text/plain": [
              "<Figure size 432x288 with 2 Axes>"
            ]
          },
          "metadata": {
            "tags": [],
            "needs_background": "light"
          }
        }
      ]
    },
    {
      "cell_type": "code",
      "metadata": {
        "id": "HJfaYHJHn7ib",
        "colab": {
          "base_uri": "https://localhost:8080/",
          "height": 350
        },
        "outputId": "f0229f89-435b-4151-e151-18e05e9c8a7c"
      },
      "source": [
        "#Gradient boosting model: poor predictor of +1 class\n",
        "\n",
        "start_time = time.time()\n",
        "\n",
        "gboost = GradientBoostingClassifier(n_estimators=100, max_depth=3)\n",
        "\n",
        "gboost.fit(X_train_scale, y_train)\n",
        "\n",
        "print(\"--- %s seconds ---\" % (time.time() - start_time))\n",
        "\n",
        "plot_confusion_matrix(gboost, X_test_scale, y_test, cmap='Blues')\n",
        "print(f'The train accuracy score is {round(gboost.score(X_train_scale, y_train)*100,2)}%.')\n",
        "print(f'The test accuracy score is {round(gboost.score(X_test_scale, y_test)*100,2)}%.')\n",
        "print(f'The 2 class F1 score is {round(f1_score(y_test, gboost.predict(X_test_scale), average=None)[2]*100,2)}%.')"
      ],
      "execution_count": 34,
      "outputs": [
        {
          "output_type": "stream",
          "text": [
            "--- 142.37489080429077 seconds ---\n",
            "The train accuracy score is 54.59%.\n",
            "The test accuracy score is 53.32%.\n",
            "The 2 class F1 score is 18.22%.\n"
          ],
          "name": "stdout"
        },
        {
          "output_type": "display_data",
          "data": {
            "image/png": "[encoded data removed]",
            "text/plain": [
              "<Figure size 432x288 with 2 Axes>"
            ]
          },
          "metadata": {
            "tags": [],
            "needs_background": "light"
          }
        }
      ]
    },
    {
      "cell_type": "code",
      "metadata": {
        "id": "TxtOfkInn7id",
        "colab": {
          "base_uri": "https://localhost:8080/",
          "height": 350
        },
        "outputId": "cf5739c2-e8e3-4b99-bbfa-047d05f0ec99"
      },
      "source": [
        "#Gradient boosting model with oversampled data: overfits to +1 class\n",
        "\n",
        "start_time = time.time()\n",
        "\n",
        "gboost_res = GradientBoostingClassifier(n_estimators=100, max_depth=3)\n",
        "\n",
        "gboost_res.fit(X_train_res, y_train_res)\n",
        "\n",
        "print(\"--- %s seconds ---\" % (time.time() - start_time))\n",
        "\n",
        "plot_confusion_matrix(gboost_res, X_test_scale, y_test, cmap='Blues')\n",
        "print(f'The train accuracy score is {round(gboost_res.score(X_train_scale, y_train)*100,2)}%.')\n",
        "print(f'The test accuracy score is {round(gboost_res.score(X_test_scale, y_test)*100,2)}%.')\n",
        "print(f'The 2 class F1 score is {round(f1_score(y_test, gboost_res.predict(X_test_scale), average=None)[2]*100,2)}%.')"
      ],
      "execution_count": 35,
      "outputs": [
        {
          "output_type": "stream",
          "text": [
            "--- 203.20423698425293 seconds ---\n",
            "The train accuracy score is 53.77%.\n",
            "The test accuracy score is 52.85%.\n",
            "The 2 class F1 score is 32.92%.\n"
          ],
          "name": "stdout"
        },
        {
          "output_type": "display_data",
          "data": {
            "image/png": "[encoded data removed]",
            "text/plain": [
              "<Figure size 432x288 with 2 Axes>"
            ]
          },
          "metadata": {
            "tags": [],
            "needs_background": "light"
          }
        }
      ]
    },
    {
      "cell_type": "code",
      "metadata": {
        "id": "RZkdA0DVn7ie",
        "colab": {
          "base_uri": "https://localhost:8080/",
          "height": 350
        },
        "outputId": "4aed7e52-19a3-4c30-b823-17c7c3556f95"
      },
      "source": [
        "#Support vector machine model: poor predictor of +1 class\n",
        "\n",
        "start_time = time.time()\n",
        "\n",
        "svc = SVC()\n",
        "\n",
        "svc.fit(X_train_scale, y_train)\n",
        "\n",
        "print(\"--- %s seconds ---\" % (time.time() - start_time))\n",
        "\n",
        "plot_confusion_matrix(svc, X_test_scale, y_test, cmap='Blues')\n",
        "print(f'The train accuracy score is {round(svc.score(X_train_scale, y_train)*100,2)}%.')\n",
        "print(f'The test accuracy score is {round(svc.score(X_test_scale, y_test)*100,2)}%.')\n",
        "print(f'The 2 class F1 score is {round(f1_score(y_test, svc.predict(X_test_scale), average=None)[2]*100,2)}%.')"
      ],
      "execution_count": 36,
      "outputs": [
        {
          "output_type": "stream",
          "text": [
            "--- 590.5096499919891 seconds ---\n",
            "The train accuracy score is 55.97%.\n",
            "The test accuracy score is 53.2%.\n",
            "The 2 class F1 score is 16.94%.\n"
          ],
          "name": "stdout"
        },
        {
          "output_type": "display_data",
          "data": {
            "image/png": "[encoded data removed]",
            "text/plain": [
              "<Figure size 432x288 with 2 Axes>"
            ]
          },
          "metadata": {
            "tags": [],
            "needs_background": "light"
          }
        }
      ]
    },
    {
      "cell_type": "code",
      "metadata": {
        "id": "RXWA1-0zn7ig",
        "colab": {
          "base_uri": "https://localhost:8080/",
          "height": 350
        },
        "outputId": "1bb30d4a-6771-4a78-9fe1-20afe3e2d927"
      },
      "source": [
        "#Support vector machine model with oversampled data; works well, takes ~15 minutes to run\n",
        "\n",
        "start_time = time.time()\n",
        "\n",
        "svc_res = SVC()\n",
        "\n",
        "svc_res.fit(X_train_res, y_train_res)\n",
        "\n",
        "print(\"--- %s seconds ---\" % (time.time() - start_time))\n",
        "\n",
        "plot_confusion_matrix(svc_res, X_test_scale, y_test, cmap='Blues')\n",
        "print(f'The train accuracy score is {round(svc_res.score(X_train_scale, y_train)*100,2)}%.')\n",
        "print(f'The test accuracy score is {round(svc_res.score(X_test_scale, y_test)*100,2)}%.')\n",
        "print(f'The 2 class F1 score is {round(f1_score(y_test, svc_res.predict(X_test_scale), average=None)[2]*100,2)}%.')"
      ],
      "execution_count": 37,
      "outputs": [
        {
          "output_type": "stream",
          "text": [
            "--- 764.2515251636505 seconds ---\n",
            "The train accuracy score is 56.38%.\n",
            "The test accuracy score is 51.6%.\n",
            "The 2 class F1 score is 37.14%.\n"
          ],
          "name": "stdout"
        },
        {
          "output_type": "display_data",
          "data": {
            "image/png": "[encoded data removed]",
            "text/plain": [
              "<Figure size 432x288 with 2 Axes>"
            ]
          },
          "metadata": {
            "tags": [],
            "needs_background": "light"
          }
        }
      ]
    },
    {
      "cell_type": "code",
      "metadata": {
        "id": "P-uVf3CCn7ii"
      },
      "source": [
        "X_train_scale = pd.DataFrame(scaler.fit_transform(X_train), columns = X_train.columns).astype(np.float32)\n",
        "X_test_scale = pd.DataFrame(scaler.fit_transform(X_test), columns = X_test.columns).astype(np.float32)\n",
        "\n",
        "train_dataset = data.Dataset.from_tensor_slices((X_train_scale.values, y_train.values))\n",
        "test_dataset = data.Dataset.from_tensor_slices((X_test_scale.values, y_test.values))\n",
        "\n",
        "train_dataset = train_dataset.shuffle(len(X_train_scale)).batch(10)\n",
        "test_dataset = test_dataset.shuffle(len(X_test_scale)).batch(1)"
      ],
      "execution_count": null,
      "outputs": []
    },
    {
      "cell_type": "code",
      "metadata": {
        "id": "cFCtTXGnn7in"
      },
      "source": [
        "#Neural network\n",
        "\n",
        "def get_compiled_model():\n",
        "  model = tf.keras.Sequential([\n",
        "    tf.keras.layers.Dense(64, activation='relu'),\n",
        "    tf.keras.layers.Dropout(0.1),\n",
        "    tf.keras.layers.Dense(64, activation='relu'),\n",
        "    tf.keras.layers.Dropout(0.1),\n",
        "    tf.keras.layers.Dense(64, activation='relu'),\n",
        "    tf.keras.layers.Dropout(0.1),\n",
        "    tf.keras.layers.Dense(3, activation='softmax')\n",
        "  ])\n",
        "\n",
        "  model.compile(optimizer='adam',\n",
        "                loss=tf.keras.losses.SparseCategoricalCrossentropy(),\n",
        "                metrics=['accuracy'])\n",
        "  return model"
      ],
      "execution_count": null,
      "outputs": []
    },
    {
      "cell_type": "code",
      "metadata": {
        "id": "ll5lNvx-n7ip",
        "colab": {
          "base_uri": "https://localhost:8080/",
          "height": 639
        },
        "outputId": "c96512d9-8e6c-49d2-c9c0-c90dd1eefcaf"
      },
      "source": [
        "model = get_compiled_model()\n",
        "model.fit(train_dataset, epochs=15)\n",
        "\n",
        "score = model.evaluate(train_dataset, verbose=0)\n",
        "print('Test score:', score[0])\n",
        "print('Test accuracy:', score[1])\n",
        "print('_____________________')\n",
        "score = model.evaluate(test_dataset, verbose=0)\n",
        "print('Test score:', score[0])\n",
        "print('Test accuracy:', score[1])"
      ],
      "execution_count": null,
      "outputs": [
        {
          "output_type": "stream",
          "text": [
            "Epoch 1/15\n",
            "5818/5818 [==============================] - 12s 2ms/step - loss: 1.0092 - accuracy: 0.5078\n",
            "Epoch 2/15\n",
            "5818/5818 [==============================] - 12s 2ms/step - loss: 0.9850 - accuracy: 0.5238\n",
            "Epoch 3/15\n",
            "5818/5818 [==============================] - 12s 2ms/step - loss: 0.9790 - accuracy: 0.5290\n",
            "Epoch 4/15\n",
            "5818/5818 [==============================] - 12s 2ms/step - loss: 0.9744 - accuracy: 0.5300\n",
            "Epoch 5/15\n",
            "5818/5818 [==============================] - 12s 2ms/step - loss: 0.9724 - accuracy: 0.5322\n",
            "Epoch 6/15\n",
            "5818/5818 [==============================] - 12s 2ms/step - loss: 0.9710 - accuracy: 0.5322\n",
            "Epoch 7/15\n",
            "5818/5818 [==============================] - 12s 2ms/step - loss: 0.9689 - accuracy: 0.5306\n",
            "Epoch 8/15\n",
            "5818/5818 [==============================] - 12s 2ms/step - loss: 0.9672 - accuracy: 0.5343\n",
            "Epoch 9/15\n",
            "5818/5818 [==============================] - 12s 2ms/step - loss: 0.9662 - accuracy: 0.5342\n",
            "Epoch 10/15\n",
            "5818/5818 [==============================] - 12s 2ms/step - loss: 0.9661 - accuracy: 0.5340\n",
            "Epoch 11/15\n",
            "5818/5818 [==============================] - 12s 2ms/step - loss: 0.9648 - accuracy: 0.5352\n",
            "Epoch 12/15\n",
            "5818/5818 [==============================] - 12s 2ms/step - loss: 0.9644 - accuracy: 0.5362\n",
            "Epoch 13/15\n",
            "5818/5818 [==============================] - 12s 2ms/step - loss: 0.9631 - accuracy: 0.5366\n",
            "Epoch 14/15\n",
            "5818/5818 [==============================] - 12s 2ms/step - loss: 0.9618 - accuracy: 0.5377\n",
            "Epoch 15/15\n",
            "5818/5818 [==============================] - 12s 2ms/step - loss: 0.9613 - accuracy: 0.5372\n",
            "Test score: 0.943061888217926\n",
            "Test accuracy: 0.5462701916694641\n",
            "_____________________\n",
            "Test score: 0.9676925539970398\n",
            "Test accuracy: 0.5300426483154297\n"
          ],
          "name": "stdout"
        }
      ]
    },
    {
      "cell_type": "markdown",
      "metadata": {
        "id": "YXf1O2Szt9Mi"
      },
      "source": [
        "2 Category Neural Network"
      ]
    },
    {
      "cell_type": "code",
      "metadata": {
        "id": "pOV1LPptt8sM"
      },
      "source": [
        "X_train_scale = pd.DataFrame(scaler.fit_transform(X_train_2c), columns = X_train_2c.columns).astype(np.float32)\n",
        "X_test_scale = pd.DataFrame(scaler.fit_transform(X_test_2c), columns = X_test_2c.columns).astype(np.float32)\n",
        "\n",
        "train_dataset = data.Dataset.from_tensor_slices((X_train_scale.values, y_train_2c.values))\n",
        "test_dataset = data.Dataset.from_tensor_slices((X_test_scale.values, y_test_2c.values))\n",
        "\n",
        "train_dataset = train_dataset.shuffle(len(X_train_scale)).batch(10)\n",
        "test_dataset = test_dataset.shuffle(len(X_test_scale)).batch(1)"
      ],
      "execution_count": null,
      "outputs": []
    },
    {
      "cell_type": "code",
      "metadata": {
        "id": "2jSZ4_65uaQy"
      },
      "source": [
        "#Neural network\n",
        "\n",
        "def get_compiled_model2():\n",
        "  model = tf.keras.Sequential([\n",
        "    tf.keras.layers.Dense(64, activation='relu'),\n",
        "    tf.keras.layers.Dropout(0.1),\n",
        "    tf.keras.layers.Dense(64, activation='relu'),\n",
        "    tf.keras.layers.Dropout(0.1),\n",
        "    tf.keras.layers.Dense(64, activation='relu'),\n",
        "    tf.keras.layers.Dropout(0.1),\n",
        "    tf.keras.layers.Dense(1, activation='sigmoid')\n",
        "  ])\n",
        "\n",
        "  model.compile(optimizer='adam',\n",
        "                loss=tf.keras.losses.BinaryCrossentropy(),\n",
        "                metrics=['accuracy'])\n",
        "  return model"
      ],
      "execution_count": null,
      "outputs": []
    },
    {
      "cell_type": "code",
      "metadata": {
        "id": "C_theUvdunDl",
        "colab": {
          "base_uri": "https://localhost:8080/",
          "height": 639
        },
        "outputId": "a687e82f-8fcc-4747-eff9-78e61ac3db74"
      },
      "source": [
        "model2 = get_compiled_model2()\n",
        "model2.fit(train_dataset, epochs=15)\n",
        "\n",
        "score = model.evaluate(train_dataset, verbose=0)\n",
        "print('Test score:', score[0])\n",
        "print('Test accuracy:', score[1])\n",
        "print('_____________________')\n",
        "score = model.evaluate(test_dataset, verbose=0)\n",
        "print('Test score:', score[0])\n",
        "print('Test accuracy:', score[1])"
      ],
      "execution_count": null,
      "outputs": [
        {
          "output_type": "stream",
          "text": [
            "Epoch 1/15\n",
            "5818/5818 [==============================] - 14s 2ms/step - loss: 0.6602 - accuracy: 0.6063\n",
            "Epoch 2/15\n",
            "5818/5818 [==============================] - 14s 2ms/step - loss: 0.6453 - accuracy: 0.6300\n",
            "Epoch 3/15\n",
            "5818/5818 [==============================] - 14s 2ms/step - loss: 0.6412 - accuracy: 0.6347\n",
            "Epoch 4/15\n",
            "5818/5818 [==============================] - 14s 2ms/step - loss: 0.6397 - accuracy: 0.6351\n",
            "Epoch 5/15\n",
            "5818/5818 [==============================] - 14s 2ms/step - loss: 0.6374 - accuracy: 0.6368\n",
            "Epoch 6/15\n",
            "5818/5818 [==============================] - 14s 2ms/step - loss: 0.6373 - accuracy: 0.6373\n",
            "Epoch 7/15\n",
            "5818/5818 [==============================] - 14s 2ms/step - loss: 0.6360 - accuracy: 0.6398\n",
            "Epoch 8/15\n",
            "5818/5818 [==============================] - 14s 2ms/step - loss: 0.6344 - accuracy: 0.6408\n",
            "Epoch 9/15\n",
            "5818/5818 [==============================] - 14s 2ms/step - loss: 0.6333 - accuracy: 0.6430\n",
            "Epoch 10/15\n",
            "5818/5818 [==============================] - 14s 2ms/step - loss: 0.6326 - accuracy: 0.6446\n",
            "Epoch 11/15\n",
            "5818/5818 [==============================] - 14s 2ms/step - loss: 0.6315 - accuracy: 0.6447\n",
            "Epoch 12/15\n",
            "5818/5818 [==============================] - 14s 2ms/step - loss: 0.6312 - accuracy: 0.6444\n",
            "Epoch 13/15\n",
            "5818/5818 [==============================] - 14s 2ms/step - loss: 0.6307 - accuracy: 0.6456\n",
            "Epoch 14/15\n",
            "5818/5818 [==============================] - 15s 3ms/step - loss: 0.6301 - accuracy: 0.6461\n",
            "Epoch 15/15\n",
            "5818/5818 [==============================] - 15s 3ms/step - loss: 0.6295 - accuracy: 0.6471\n",
            "Test score: 1.0118428468704224\n",
            "Test accuracy: 0.573461651802063\n",
            "_____________________\n",
            "Test score: 1.0180065631866455\n",
            "Test accuracy: 0.5668912529945374\n"
          ],
          "name": "stdout"
        }
      ]
    },
    {
      "cell_type": "markdown",
      "metadata": {
        "id": "NvcL-owzn7it"
      },
      "source": [
        "# After analyzing multiple parameters in logistic regression, including normalization levels (C parameter), multivariate analysis method, and loss function, the best model was determined to be a multivariate analysis with L2 loss. Normalization level did not have a significant impact on any of the models, so C=1 was chosen for best run time."
      ]
    },
    {
      "cell_type": "code",
      "metadata": {
        "id": "nhIzEXZRn7it"
      },
      "source": [
        "# c = [0.1, 0.5, 1, 10, 20, 40 ,70, 90, 100]"
      ],
      "execution_count": null,
      "outputs": []
    },
    {
      "cell_type": "code",
      "metadata": {
        "id": "3Ed6_g1Sn7iv"
      },
      "source": [
        "# for i in c:\n",
        "#     start_time = time.time()\n",
        "\n",
        "#     logit_res_saga = LogisticRegression(max_iter=10000, solver='saga', C=i)\n",
        "\n",
        "#     logit_res_saga.fit(X_train_res, y_train_res)\n",
        "#     print(logit_res_saga.score(X_train_res, y_train_res))\n",
        "#     print(logit_res_saga.score(X_train_scale, y_train))\n",
        "#     print(logit_res_saga.score(X_test_scale, y_test))\n",
        "\n",
        "#     print(\"--- %s seconds ---\" % (time.time() - start_time))\n",
        "\n",
        "#     print(plot_confusion_matrix(logit_res_saga, X_test_scale, y_test, cmap='Blues'))"
      ],
      "execution_count": null,
      "outputs": []
    },
    {
      "cell_type": "markdown",
      "metadata": {
        "id": "2aC-fxc-n7ix"
      },
      "source": [
        "Variations in C make no significant difference in test accuracy or identification of the +1 class."
      ]
    },
    {
      "cell_type": "code",
      "metadata": {
        "id": "BJlife84n7iy"
      },
      "source": [
        "# for i in c:\n",
        "#     start_time = time.time()\n",
        "\n",
        "#     logit_res_saga2 = LogisticRegression(max_iter=10000, solver='saga', penalty='l1', C=i)\n",
        "\n",
        "#     logit_res_saga2.fit(X_train_res, y_train_res)\n",
        "#     print(logit_res_saga2.score(X_train_res, y_train_res))\n",
        "#     print(logit_res_saga2.score(X_train_scale, y_train))\n",
        "#     print(logit_res_saga2.score(X_test_scale, y_test))\n",
        "\n",
        "#     print(\"--- %s seconds ---\" % (time.time() - start_time))\n",
        "\n",
        "#     print(plot_confusion_matrix(logit_res_saga2, X_test_scale, y_test, cmap='Blues'))"
      ],
      "execution_count": null,
      "outputs": []
    },
    {
      "cell_type": "markdown",
      "metadata": {
        "id": "T2Xp2efhn7i0"
      },
      "source": [
        "Variations in C make no significant difference in test accuracy or identification of the +1 class."
      ]
    },
    {
      "cell_type": "code",
      "metadata": {
        "id": "o0m4INMhn7i0"
      },
      "source": [
        "# for i in c:\n",
        "#     start_time = time.time()\n",
        "\n",
        "#     logit_res_saga_ovr = LogisticRegression(max_iter=10000, solver='saga', multi_class='ovr', C=i)\n",
        "\n",
        "#     logit_res_saga_ovr.fit(X_train_res, y_train_res)\n",
        "#     print(logit_res_saga_ovr.score(X_train_res, y_train_res))\n",
        "#     print(logit_res_saga_ovr.score(X_train_scale, y_train))\n",
        "#     print(logit_res_saga_ovr.score(X_test_scale, y_test))\n",
        "\n",
        "#     print(\"--- %s seconds ---\" % (time.time() - start_time))\n",
        "\n",
        "#     print(plot_confusion_matrix(logit_res_saga_ovr, X_test_scale, y_test, cmap='Blues'))"
      ],
      "execution_count": null,
      "outputs": []
    },
    {
      "cell_type": "markdown",
      "metadata": {
        "id": "D9bt9aUGn7i4"
      },
      "source": [
        "Variations in C make no significant difference in test accuracy or identification of the +1 class."
      ]
    },
    {
      "cell_type": "code",
      "metadata": {
        "id": "vD0aXTxzn7i4"
      },
      "source": [
        "# for i in c:\n",
        "#     start_time = time.time()\n",
        "\n",
        "#     logit_res_saga_ovr2 = LogisticRegression(max_iter=10000, solver='saga', multi_class='ovr', penalty='l1', C=i)\n",
        "\n",
        "#     logit_res_saga_ovr2.fit(X_train_res, y_train_res)\n",
        "#     print(logit_res_saga_ovr2.score(X_train_res, y_train_res))\n",
        "#     print(logit_res_saga_ovr2.score(X_train_scale, y_train))\n",
        "#     print(logit_res_saga_ovr2.score(X_test_scale, y_test))\n",
        "\n",
        "#     print(\"--- %s seconds ---\" % (time.time() - start_time))\n",
        "\n",
        "#     print(plot_confusion_matrix(logit_res_saga_ovr2, X_test_scale, y_test, cmap='Blues'))"
      ],
      "execution_count": null,
      "outputs": []
    },
    {
      "cell_type": "markdown",
      "metadata": {
        "id": "VeDFw7rJn7i7"
      },
      "source": [
        "Variations in C make no significant difference in test accuracy or identification of the +1 class."
      ]
    },
    {
      "cell_type": "code",
      "metadata": {
        "id": "PML8Kfy8n7i7"
      },
      "source": [
        "# start_time = time.time()\n",
        "\n",
        "# logit_final = LogisticRegression(max_iter=10000, solver='saga')\n",
        "\n",
        "# logit_final.fit(X_train_res, y_train_res)\n",
        "# print(logit_final.score(X_train_res, y_train_res))\n",
        "# print(logit_final.score(X_train_scale, y_train))\n",
        "# print(logit_final.score(X_test_scale, y_test))\n",
        "\n",
        "# print(\"--- %s seconds ---\" % (time.time() - start_time))\n",
        "\n",
        "# plot_confusion_matrix(logit_final, X_test_scale, y_test, cmap='Blues')"
      ],
      "execution_count": null,
      "outputs": []
    },
    {
      "cell_type": "code",
      "metadata": {
        "scrolled": true,
        "id": "yZ7saPeEn7i9"
      },
      "source": [
        "# for i in range(len(X_test.columns)):\n",
        "#     print(X_test.columns[i])\n",
        "#     print(logit_final.coef_[2,i] - logit_final.coef_[0,i])"
      ],
      "execution_count": null,
      "outputs": []
    },
    {
      "cell_type": "markdown",
      "metadata": {
        "id": "T0cwUcV3n7i_"
      },
      "source": [
        "The most impactful variables in differentiating between the +1 and the -1 classes are the poverty rate (-1.03), the percentage of the population that is white (-0.28), the median household income (-0.25), the percentage of professionals, or the percentage working in business, management, science, and the arts (-0.40), the percentage of the population that is employed (-0.21), the percentage of the population that walks to work (+0.16), income per capita (+0.20), and the percentage of the population that are US citizens (+0.14). A positive coefficient value indicates prediction of the +1 class over the -1 class, and a negative coefficient value indicates prediction of the -1 class over the +1 class."
      ]
    },
    {
      "cell_type": "code",
      "metadata": {
        "id": "24bjkrrYn7jB"
      },
      "source": [
        "corr = df2015.corr()"
      ],
      "execution_count": 40,
      "outputs": []
    },
    {
      "cell_type": "code",
      "metadata": {
        "id": "G1mtw4afn7jG",
        "colab": {
          "base_uri": "https://localhost:8080/"
        },
        "outputId": "78737a0e-333b-4375-8eaa-d7f9d49f288c"
      },
      "source": [
        "corr['Poverty_Change'].sort_values()"
      ],
      "execution_count": 42,
      "outputs": [
        {
          "output_type": "execute_result",
          "data": {
            "text/plain": [
              "ChildPoverty          -0.223093\n",
              "Poverty               -0.208630\n",
              "Unemployment          -0.089321\n",
              "Service               -0.079204\n",
              "Hispanic              -0.061513\n",
              "Carpool               -0.049392\n",
              "Production            -0.049300\n",
              "Construction          -0.035776\n",
              "OtherTransp           -0.033325\n",
              "PrivateWork           -0.031124\n",
              "Transit               -0.029740\n",
              "Black                 -0.029506\n",
              "SelfEmployed          -0.019609\n",
              "Walk                  -0.019594\n",
              "Women                 -0.014449\n",
              "TotalPop              -0.014372\n",
              "Men                   -0.013819\n",
              "Pacific               -0.013632\n",
              "MeanCommute           -0.001057\n",
              "Native                 0.001260\n",
              "FamilyWork             0.003092\n",
              "Asian                  0.009062\n",
              "Employed               0.013118\n",
              "WorkAtHome             0.013836\n",
              "Citizen                0.014917\n",
              "CensusTract            0.015902\n",
              "Office                 0.017575\n",
              "IncomePerCapErr        0.034729\n",
              "IncomeErr              0.041870\n",
              "PublicWork             0.044381\n",
              "Drive                  0.049345\n",
              "White                  0.065362\n",
              "Professional           0.075782\n",
              "IncomePerCap           0.087194\n",
              "Income                 0.097206\n",
              "Poverty_Change_2c      0.794120\n",
              "Poverty_Change_2c_2    0.817998\n",
              "Poverty_Change_val     0.819060\n",
              "Poverty_Change         1.000000\n",
              "Name: Poverty_Change, dtype: float64"
            ]
          },
          "metadata": {
            "tags": []
          },
          "execution_count": 42
        }
      ]
    },
    {
      "cell_type": "code",
      "metadata": {
        "id": "7BVs41i6n7jI"
      },
      "source": [
        ""
      ],
      "execution_count": null,
      "outputs": []
    }
  ]
}