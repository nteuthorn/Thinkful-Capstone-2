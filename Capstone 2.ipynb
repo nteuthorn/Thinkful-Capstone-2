{
 "cells": [
  {
   "cell_type": "code",
   "execution_count": 75,
   "metadata": {},
   "outputs": [],
   "source": [
    "#Import libraries\n",
    "\n",
    "import pandas as pd\n",
    "import numpy as np\n",
    "import matplotlib.pyplot as plt\n",
    "import seaborn as sns\n",
    "import time\n",
    "import itertools\n",
    "import scipy.stats as stats\n",
    "from scipy.stats.mstats import winsorize\n",
    "\n",
    "from sklearn.model_selection import train_test_split, cross_val_score, GridSearchCV, RandomizedSearchCV\n",
    "from sklearn.decomposition import PCA\n",
    "from sklearn.dummy import DummyClassifier, DummyRegressor\n",
    "from sklearn.linear_model import LogisticRegression, LinearRegression\n",
    "from sklearn.ensemble import RandomForestRegressor, RandomForestClassifier, GradientBoostingClassifier, GradientBoostingRegressor\n",
    "from sklearn.svm import SVC, SVR\n",
    "from sklearn.preprocessing import StandardScaler\n",
    "from sklearn.metrics import confusion_matrix, plot_confusion_matrix, classification_report\n",
    "from xgboost import XGBClassifier, XGBRegressor\n",
    "\n",
    "from imblearn.over_sampling import SMOTE\n",
    "from imblearn.under_sampling import RandomUnderSampler"
   ]
  },
  {
   "cell_type": "code",
   "execution_count": 76,
   "metadata": {},
   "outputs": [],
   "source": [
    "#Import 2015 and 2017 census data, change column names to be consistent across datasets\n",
    "\n",
    "df2015 = pd.read_csv('acs2015_census_tract_data.csv')\n",
    "\n",
    "df2017 = pd.read_csv('acs2017_census_tract_data.csv')\n",
    "df2017.rename({'TractId': 'CensusTract', 'VotingAgeCitizen': 'Citizen'}, axis=1, inplace=True)"
   ]
  },
  {
   "cell_type": "code",
   "execution_count": 77,
   "metadata": {},
   "outputs": [],
   "source": [
    "#Change count statistics to percentages based on total population; remove %women because of perfect multicollinearity with %men\n",
    "\n",
    "df2015['Men'] = df2015['Men']/df2015['TotalPop']\n",
    "df2015['Citizen'] = df2015['Citizen']/df2015['TotalPop']\n",
    "df2015['Employed'] = df2015['Employed']/df2015['TotalPop']\n",
    "df2015.drop(['CensusTract', 'Women'], axis=1, inplace=True)\n",
    "\n",
    "df2017['Men'] = df2017['Men']/df2017['TotalPop']\n",
    "df2017['Citizen'] = df2017['Citizen']/df2017['TotalPop']\n",
    "df2017['Employed'] = df2017['Employed']/df2017['TotalPop']\n",
    "df2017.drop(['CensusTract', 'Women'], axis=1, inplace=True)"
   ]
  },
  {
   "cell_type": "code",
   "execution_count": 78,
   "metadata": {},
   "outputs": [],
   "source": [
    "#Create df_diff as change from 2015 to 2017\n",
    "#Add Poverty_Change variable as categorical, -1=significant decrease in poverty, 0=no significant change, +1=significant increase in poverty\n",
    "\n",
    "df_diff = df2017.copy()\n",
    "df_diff.drop(['State', 'County'], axis=1, inplace=True)\n",
    "for col in df_diff:\n",
    "        df_diff[col] = df2017[col] - df2015[col]\n",
    "df_diff['Poverty_Change'] = 0\n",
    "df_diff.loc[(df_diff['Poverty'] >= 1.5), 'Poverty_Change'] = 1\n",
    "df_diff.loc[(df_diff['Poverty'] <= -1.5), 'Poverty_Change'] = -1\n",
    "\n",
    "#Add poverty change to 2015 dataset\n",
    "df2015['Poverty_Change'] = df_diff['Poverty_Change']\n",
    "df2015['Poverty_Change_val'] = df_diff['Poverty']\n",
    "\n",
    "df2015['Poverty_Change_2c'] = 0\n",
    "df2015.loc[(df2015['Poverty_Change_val'] <= -1.5), 'Poverty_Change_2c'] = 1"
   ]
  },
  {
   "cell_type": "code",
   "execution_count": 79,
   "metadata": {},
   "outputs": [],
   "source": [
    "# #Create PCA components to capture 50% of the variation in 'State' and 'County' variables\n",
    "\n",
    "# pca = PCA(n_components=33)\n",
    "# principal_components = pca.fit_transform(pd.concat([pd.get_dummies(df2015['State']), pd.get_dummies(df2015['County'])], axis=1))\n",
    "\n",
    "# principalDf = pd.DataFrame(data = principal_components)\n",
    "# df2015 = pd.concat([df2015, principalDf], axis=1)"
   ]
  },
  {
   "cell_type": "code",
   "execution_count": 80,
   "metadata": {},
   "outputs": [],
   "source": [
    "#Drop null values\n",
    "\n",
    "df2015.dropna(inplace=True)\n",
    "df_diff.dropna(inplace=True)"
   ]
  },
  {
   "cell_type": "code",
   "execution_count": 81,
   "metadata": {},
   "outputs": [
    {
     "name": "stdout",
     "output_type": "stream",
     "text": [
      "TotalPop\n",
      "There are 298 tracts identified as outliers.\n",
      "Men\n",
      "There are 539 tracts identified as outliers.\n",
      "Hispanic\n",
      "There are 3487 tracts identified as outliers.\n",
      "White\n",
      "There are 0 tracts identified as outliers.\n",
      "Black\n",
      "There are 5369 tracts identified as outliers.\n",
      "Native\n",
      "There are 5031 tracts identified as outliers.\n",
      "Asian\n",
      "There are 4158 tracts identified as outliers.\n",
      "Pacific\n",
      "There are 8847 tracts identified as outliers.\n",
      "Citizen\n",
      "There are 431 tracts identified as outliers.\n",
      "Income\n",
      "There are 437 tracts identified as outliers.\n",
      "IncomeErr\n",
      "There are 846 tracts identified as outliers.\n",
      "IncomePerCap\n",
      "There are 992 tracts identified as outliers.\n",
      "IncomePerCapErr\n",
      "There are 1893 tracts identified as outliers.\n",
      "Poverty\n",
      "There are 169 tracts identified as outliers.\n",
      "ChildPoverty\n",
      "There are 0 tracts identified as outliers.\n",
      "Professional\n",
      "There are 0 tracts identified as outliers.\n",
      "Service\n",
      "There are 82 tracts identified as outliers.\n",
      "Office\n",
      "There are 25 tracts identified as outliers.\n",
      "Construction\n",
      "There are 230 tracts identified as outliers.\n",
      "Production\n",
      "There are 28 tracts identified as outliers.\n",
      "Drive\n",
      "There are 2367 tracts identified as outliers.\n",
      "Carpool\n",
      "There are 239 tracts identified as outliers.\n",
      "Transit\n",
      "There are 5742 tracts identified as outliers.\n",
      "Walk\n",
      "There are 2972 tracts identified as outliers.\n",
      "OtherTransp\n",
      "There are 1600 tracts identified as outliers.\n",
      "WorkAtHome\n",
      "There are 469 tracts identified as outliers.\n",
      "MeanCommute\n",
      "There are 30 tracts identified as outliers.\n",
      "Employed\n",
      "There are 69 tracts identified as outliers.\n",
      "PrivateWork\n",
      "There are 226 tracts identified as outliers.\n",
      "PublicWork\n",
      "There are 383 tracts identified as outliers.\n",
      "SelfEmployed\n",
      "There are 328 tracts identified as outliers.\n",
      "FamilyWork\n",
      "There are 16564 tracts identified as outliers.\n",
      "Unemployment\n",
      "There are 711 tracts identified as outliers.\n",
      "Poverty_Change\n",
      "There are 0 tracts identified as outliers.\n",
      "Poverty_Change_val\n",
      "There are 347 tracts identified as outliers.\n",
      "Poverty_Change_2c\n",
      "There are 0 tracts identified as outliers.\n",
      "TotalPop\n",
      "There are 887 tracts identified as outliers.\n",
      "Men\n",
      "There are 83 tracts identified as outliers.\n",
      "Hispanic\n",
      "There are 1336 tracts identified as outliers.\n",
      "White\n",
      "There are 290 tracts identified as outliers.\n",
      "Black\n",
      "There are 3661 tracts identified as outliers.\n",
      "Native\n",
      "There are 32067 tracts identified as outliers.\n",
      "Asian\n",
      "There are 4721 tracts identified as outliers.\n",
      "Pacific\n",
      "There are 10419 tracts identified as outliers.\n",
      "Citizen\n",
      "There are 163 tracts identified as outliers.\n",
      "Income\n",
      "There are 655 tracts identified as outliers.\n",
      "IncomeErr\n",
      "There are 765 tracts identified as outliers.\n",
      "IncomePerCap\n",
      "There are 964 tracts identified as outliers.\n",
      "IncomePerCapErr\n",
      "There are 2951 tracts identified as outliers.\n",
      "Poverty\n",
      "There are 340 tracts identified as outliers.\n",
      "ChildPoverty\n",
      "There are 717 tracts identified as outliers.\n",
      "Professional\n",
      "There are 69 tracts identified as outliers.\n",
      "Service\n",
      "There are 169 tracts identified as outliers.\n",
      "Office\n",
      "There are 83 tracts identified as outliers.\n",
      "Construction\n",
      "There are 305 tracts identified as outliers.\n",
      "Production\n",
      "There are 267 tracts identified as outliers.\n",
      "Drive\n",
      "There are 147 tracts identified as outliers.\n",
      "Carpool\n",
      "There are 269 tracts identified as outliers.\n",
      "Transit\n",
      "There are 7794 tracts identified as outliers.\n",
      "Walk\n",
      "There are 3191 tracts identified as outliers.\n",
      "OtherTransp\n",
      "There are 2348 tracts identified as outliers.\n",
      "WorkAtHome\n",
      "There are 558 tracts identified as outliers.\n",
      "MeanCommute\n",
      "There are 255 tracts identified as outliers.\n",
      "Employed\n",
      "There are 52 tracts identified as outliers.\n",
      "PrivateWork\n",
      "There are 124 tracts identified as outliers.\n",
      "PublicWork\n",
      "There are 179 tracts identified as outliers.\n",
      "SelfEmployed\n",
      "There are 270 tracts identified as outliers.\n",
      "FamilyWork\n",
      "There are 18954 tracts identified as outliers.\n",
      "Unemployment\n",
      "There are 395 tracts identified as outliers.\n",
      "Poverty_Change\n",
      "There are 0 tracts identified as outliers.\n"
     ]
    }
   ],
   "source": [
    "#Winsorize outliers\n",
    "\n",
    "for col in df2015.columns[2:]:\n",
    "    threshold = 3\n",
    "    q75, q25 = np.percentile(df2015[col], [75,25])\n",
    "    iqr = q75-q25\n",
    "    min_val = q25 - (iqr*threshold)\n",
    "    max_val = q75 + (iqr*threshold)\n",
    "\n",
    "    outliers = df2015[(df2015[col] > max_val) | (df2015[col] < min_val)]\n",
    "    print(col)\n",
    "    print('There are {} tracts identified as outliers.'.format(outliers.shape[0]))\n",
    "\n",
    "    df2015[col] = pd.Series(winsorize(df2015[col], limits = (outliers.shape[0]/df2015[col].shape[0])))\n",
    "\n",
    "for col in df_diff.columns:\n",
    "    threshold = 3\n",
    "    q75, q25 = np.percentile(df_diff[col], [75,25])\n",
    "    iqr = q75-q25\n",
    "    min_val = q25 - (iqr*threshold)\n",
    "    max_val = q75 + (iqr*threshold)\n",
    "\n",
    "    outliers = df_diff[(df_diff[col] > max_val) | (df_diff[col] < min_val)]\n",
    "    print(col)\n",
    "    print('There are {} tracts identified as outliers.'.format(outliers.shape[0]))\n",
    "\n",
    "    df_diff[col] = pd.Series(winsorize(df_diff[col], limits = (outliers.shape[0]/df_diff[col].shape[0])))"
   ]
  },
  {
   "cell_type": "code",
   "execution_count": 82,
   "metadata": {},
   "outputs": [],
   "source": [
    "#Drop null values\n",
    "\n",
    "df2015.dropna(inplace=True)\n",
    "df_diff.dropna(inplace=True)"
   ]
  },
  {
   "cell_type": "code",
   "execution_count": 83,
   "metadata": {},
   "outputs": [],
   "source": [
    "#Create y-variable as categorical poverty change, X variable as all 2015 statistics\n",
    "#Perform train test split; also create \"small\" dataset for faster computation during testing\n",
    "#Create scaled dataset for use when necessary\n",
    "\n",
    "y = df2015['Poverty_Change_2c']\n",
    "\n",
    "X = df2015.drop(['State', 'County', 'Poverty_Change', 'Poverty_Change_val', 'Poverty_Change_2c'], axis=1)\n",
    "\n",
    "df_small = df2015.sample(frac=0.1)\n",
    "y_small = df_small['Poverty_Change_2c']\n",
    "X_small = df_small.drop(['State', 'County', 'Poverty_Change', 'Poverty_Change_val', 'Poverty_Change_2c'], axis=1)\n",
    "\n",
    "X_train, X_test, y_train, y_test = train_test_split(X,y,test_size=0.2)\n",
    "X_train_s, X_test_s, y_train_s, y_test_s = train_test_split(X_small,y_small,test_size=0.2)\n",
    "\n",
    "scaler = StandardScaler()\n",
    "X_train_scale = pd.DataFrame(scaler.fit_transform(X_train), columns = X_train.columns)\n",
    "X_test_scale = pd.DataFrame(scaler.fit_transform(X_test), columns = X_test.columns)\n",
    "X_train_s_scale = pd.DataFrame(scaler.fit_transform(X_train_s), columns = X_train_s.columns)\n",
    "X_test_s_scale = pd.DataFrame(scaler.fit_transform(X_test_s), columns = X_test_s.columns)"
   ]
  },
  {
   "cell_type": "code",
   "execution_count": 88,
   "metadata": {},
   "outputs": [],
   "source": [
    "sm = SMOTE()\n",
    "rus = RandomUnderSampler(sampling_strategy=0.5)\n",
    "\n",
    "#X_train_re, y_train_re = rus.fit_resample(X_train, y_train)\n",
    "#X_train_res, y_train_res = sm.fit_resample(X_train_re, y_train_re)\n",
    "X_train_res, y_train_res = sm.fit_resample(X_train, y_train)"
   ]
  },
  {
   "cell_type": "code",
   "execution_count": 39,
   "metadata": {},
   "outputs": [],
   "source": [
    "X_train_re_scale, y_train_re_scale = rus.fit_resample(X_train_scale, y_train)\n",
    "X_train_res_scale, y_train_res_scale = sm.fit_resample(X_train_re_scale, y_train_re_scale)"
   ]
  },
  {
   "cell_type": "code",
   "execution_count": 40,
   "metadata": {},
   "outputs": [],
   "source": [
    "# #Perform same train test split for numerical poverty change variable for regression testing\n",
    "\n",
    "# y2 = df2015['Poverty_Change_val']\n",
    "\n",
    "# X_train2, X_test2, y_train2, y_test2 = train_test_split(X,y2,test_size=0.2)\n",
    "\n",
    "# scaler = StandardScaler()\n",
    "# X_train_scale2 = pd.DataFrame(scaler.fit_transform(X_train2), columns = X_train2.columns)\n",
    "# X_test_scale2 = pd.DataFrame(scaler.fit_transform(X_test2), columns = X_test2.columns)"
   ]
  },
  {
   "cell_type": "code",
   "execution_count": 54,
   "metadata": {},
   "outputs": [
    {
     "data": {
      "text/plain": [
       "<matplotlib.collections.PathCollection at 0x17e3ddc2508>"
      ]
     },
     "execution_count": 54,
     "metadata": {},
     "output_type": "execute_result"
    },
    {
     "data": {
      "image/png": "[encoded data removed]",
      "text/plain": [
       "<Figure size 432x288 with 1 Axes>"
      ]
     },
     "metadata": {
      "needs_background": "light"
     },
     "output_type": "display_data"
    }
   ],
   "source": [
    "plt.scatter(df2015['Poverty_Change_val'], df2015['Poverty_Change'])"
   ]
  },
  {
   "cell_type": "code",
   "execution_count": 55,
   "metadata": {},
   "outputs": [
    {
     "data": {
      "text/plain": [
       "(array([27717.,     0.,     0.,     0.,     0., 25815.,     0.,     0.,\n",
       "            0., 17991.]),\n",
       " array([-1. , -0.8, -0.6, -0.4, -0.2,  0. ,  0.2,  0.4,  0.6,  0.8,  1. ]),\n",
       " <a list of 10 Patch objects>)"
      ]
     },
     "execution_count": 55,
     "metadata": {},
     "output_type": "execute_result"
    },
    {
     "data": {
      "image/png": "[encoded data removed]",
      "text/plain": [
       "<Figure size 432x288 with 1 Axes>"
      ]
     },
     "metadata": {
      "needs_background": "light"
     },
     "output_type": "display_data"
    }
   ],
   "source": [
    "plt.hist(df2015['Poverty_Change'])"
   ]
  },
  {
   "cell_type": "code",
   "execution_count": 41,
   "metadata": {},
   "outputs": [
    {
     "name": "stdout",
     "output_type": "stream",
     "text": [
      "0.7495892900835401\n",
      "0.7439356868227892\n"
     ]
    }
   ],
   "source": [
    "#Perform dummy classification for baseline\n",
    "\n",
    "dummy = DummyClassifier(strategy = 'most_frequent')\n",
    "dummy.fit(X_train_res, y_train_res)\n",
    "\n",
    "print(dummy.score(X_train, y_train))\n",
    "print(dummy.score(X_test, y_test))"
   ]
  },
  {
   "cell_type": "code",
   "execution_count": 42,
   "metadata": {},
   "outputs": [
    {
     "data": {
      "text/plain": [
       "<sklearn.metrics._plot.confusion_matrix.ConfusionMatrixDisplay at 0x17e45a78c88>"
      ]
     },
     "execution_count": 42,
     "metadata": {},
     "output_type": "execute_result"
    },
    {
     "data": {
      "image/png": "[encoded data removed]",
      "text/plain": [
       "<Figure size 432x288 with 2 Axes>"
      ]
     },
     "metadata": {
      "needs_background": "light"
     },
     "output_type": "display_data"
    }
   ],
   "source": [
    "plot_confusion_matrix(dummy, X_test, y_test, cmap='Blues')"
   ]
  },
  {
   "cell_type": "code",
   "execution_count": 43,
   "metadata": {},
   "outputs": [
    {
     "data": {
      "text/plain": [
       "<sklearn.metrics._plot.confusion_matrix.ConfusionMatrixDisplay at 0x17e3c012ec8>"
      ]
     },
     "execution_count": 43,
     "metadata": {},
     "output_type": "execute_result"
    },
    {
     "data": {
      "image/png": "[encoded data removed]",
      "text/plain": [
       "<Figure size 432x288 with 2 Axes>"
      ]
     },
     "metadata": {
      "needs_background": "light"
     },
     "output_type": "display_data"
    }
   ],
   "source": [
    "plot_confusion_matrix(dummy, X_train_res, y_train_res, cmap='Blues')"
   ]
  },
  {
   "cell_type": "code",
   "execution_count": 93,
   "metadata": {},
   "outputs": [
    {
     "name": "stdout",
     "output_type": "stream",
     "text": [
      "0.6590059072319899\n",
      "0.6597693114295701\n",
      "--- 0.7392091751098633 seconds ---\n"
     ]
    }
   ],
   "source": [
    "start_time = time.time()\n",
    "\n",
    "logit = LogisticRegression(max_iter=10000)\n",
    "\n",
    "logit.fit(X_train, y_train)\n",
    "print(logit.score(X_train, y_train))\n",
    "print(logit.score(X_test, y_test))\n",
    "\n",
    "print(\"--- %s seconds ---\" % (time.time() - start_time))"
   ]
  },
  {
   "cell_type": "code",
   "execution_count": 94,
   "metadata": {},
   "outputs": [
    {
     "data": {
      "text/plain": [
       "<sklearn.metrics._plot.confusion_matrix.ConfusionMatrixDisplay at 0x17e3cb84d88>"
      ]
     },
     "execution_count": 94,
     "metadata": {},
     "output_type": "execute_result"
    },
    {
     "data": {
      "image/png": "[encoded data removed]",
      "text/plain": [
       "<Figure size 432x288 with 2 Axes>"
      ]
     },
     "metadata": {
      "needs_background": "light"
     },
     "output_type": "display_data"
    }
   ],
   "source": [
    "plot_confusion_matrix(logit, X_test, y_test, cmap='Blues')"
   ]
  },
  {
   "cell_type": "code",
   "execution_count": 95,
   "metadata": {},
   "outputs": [
    {
     "name": "stdout",
     "output_type": "stream",
     "text": [
      "0.6626586039358244\n",
      "0.6613072352324362\n",
      "--- 1.8814456462860107 seconds ---\n"
     ]
    }
   ],
   "source": [
    "start_time = time.time()\n",
    "\n",
    "logit_smote = LogisticRegression(max_iter=10000)\n",
    "\n",
    "logit_smote.fit(X_train_res, y_train_res)\n",
    "print(logit_smote.score(X_train, y_train))\n",
    "print(logit_smote.score(X_test, y_test))\n",
    "\n",
    "print(\"--- %s seconds ---\" % (time.time() - start_time))"
   ]
  },
  {
   "cell_type": "code",
   "execution_count": 96,
   "metadata": {
    "scrolled": true
   },
   "outputs": [
    {
     "data": {
      "text/plain": [
       "<sklearn.metrics._plot.confusion_matrix.ConfusionMatrixDisplay at 0x17e3d22bcc8>"
      ]
     },
     "execution_count": 96,
     "metadata": {},
     "output_type": "execute_result"
    },
    {
     "data": {
      "image/png": "[encoded data removed]",
      "text/plain": [
       "<Figure size 432x288 with 2 Axes>"
      ]
     },
     "metadata": {
      "needs_background": "light"
     },
     "output_type": "display_data"
    }
   ],
   "source": [
    "plot_confusion_matrix(logit_smote, X_train_res, y_train_res, cmap='Blues')"
   ]
  },
  {
   "cell_type": "code",
   "execution_count": 97,
   "metadata": {},
   "outputs": [
    {
     "data": {
      "text/plain": [
       "<sklearn.metrics._plot.confusion_matrix.ConfusionMatrixDisplay at 0x17e3cc47988>"
      ]
     },
     "execution_count": 97,
     "metadata": {},
     "output_type": "execute_result"
    },
    {
     "data": {
      "image/png": "[encoded data removed]",
      "text/plain": [
       "<Figure size 432x288 with 2 Axes>"
      ]
     },
     "metadata": {
      "needs_background": "light"
     },
     "output_type": "display_data"
    }
   ],
   "source": [
    "plot_confusion_matrix(logit_smote, X_test, y_test, cmap='Blues')"
   ]
  },
  {
   "cell_type": "code",
   "execution_count": 62,
   "metadata": {},
   "outputs": [],
   "source": [
    "# start_time = time.time()\n",
    "\n",
    "# forest_c = RandomForestClassifier(criterion='gini', max_depth=8, n_estimators=1000)\n",
    "\n",
    "# forest_c.fit(X_train, y_train)\n",
    "\n",
    "# print(forest_c.score(X_train, y_train))\n",
    "# print(forest_c.score(X_test, y_test))\n",
    "\n",
    "# print(\"--- %s seconds ---\" % (time.time() - start_time))"
   ]
  },
  {
   "cell_type": "code",
   "execution_count": 63,
   "metadata": {},
   "outputs": [],
   "source": [
    "# plot_confusion_matrix(forest_c, X_test, y_test, cmap='Blues')"
   ]
  },
  {
   "cell_type": "code",
   "execution_count": 17,
   "metadata": {},
   "outputs": [],
   "source": [
    "# start_time = time.time()\n",
    "\n",
    "# svm_c_lin = SVC(kernel='linear', C=1)\n",
    "\n",
    "# svm_c_lin.fit(X_train_s_scale, y_train_s)\n",
    "\n",
    "# print(\"--- %s seconds ---\" % (time.time() - start_time))\n",
    "\n",
    "# start_time = time.time()\n",
    "\n",
    "# print(svm_c_lin.score(X_train_s_scale, y_train_s))\n",
    "# print(svm_c_lin.score(X_test_s_scale, y_test_s))\n",
    "\n",
    "# print(\"--- %s seconds ---\" % (time.time() - start_time))"
   ]
  },
  {
   "cell_type": "code",
   "execution_count": 18,
   "metadata": {},
   "outputs": [],
   "source": [
    "# plot_confusion_matrix(svm_c_lin, X_test_s_scale, y_test_s, cmap='Blues')"
   ]
  },
  {
   "cell_type": "code",
   "execution_count": 19,
   "metadata": {},
   "outputs": [],
   "source": [
    "# start_time = time.time()\n",
    "\n",
    "# svm_c_rbf = SVC(kernel='rbf', C=0.2)\n",
    "\n",
    "# svm_c_rbf.fit(X_train_s_scale, y_train_s)\n",
    "\n",
    "# print(\"--- %s seconds ---\" % (time.time() - start_time))\n",
    "\n",
    "# start_time = time.time()\n",
    "\n",
    "# print(svm_c_rbf.score(X_train_s_scale, y_train_s))\n",
    "# print(svm_c_rbf.score(X_test_s_scale, y_test_s))\n",
    "\n",
    "# print(\"--- %s seconds ---\" % (time.time() - start_time))"
   ]
  },
  {
   "cell_type": "code",
   "execution_count": 20,
   "metadata": {},
   "outputs": [],
   "source": [
    "# plot_confusion_matrix(svm_c_rbf, X_test_s_scale, y_test_s, cmap='Blues')"
   ]
  },
  {
   "cell_type": "code",
   "execution_count": 18,
   "metadata": {},
   "outputs": [
    {
     "name": "stdout",
     "output_type": "stream",
     "text": [
      "--- 35.52397131919861 seconds ---\n",
      "0.7557936313747422\n",
      "0.752394267738553\n",
      "--- 1.2776165008544922 seconds ---\n"
     ]
    }
   ],
   "source": [
    "start_time = time.time()\n",
    "\n",
    "boost_c = GradientBoostingClassifier(learning_rate=0.1, n_estimators=1000, max_depth=2, subsample=0.5, max_features='sqrt')\n",
    "\n",
    "boost_c.fit(X_train, y_train)\n",
    "\n",
    "print(\"--- %s seconds ---\" % (time.time() - start_time))\n",
    "\n",
    "start_time = time.time()\n",
    "\n",
    "print(boost_c.score(X_train, y_train))\n",
    "print(boost_c.score(X_test, y_test))\n",
    "\n",
    "print(\"--- %s seconds ---\" % (time.time() - start_time))"
   ]
  },
  {
   "cell_type": "code",
   "execution_count": 19,
   "metadata": {},
   "outputs": [
    {
     "data": {
      "text/plain": [
       "<sklearn.metrics._plot.confusion_matrix.ConfusionMatrixDisplay at 0x17e3ca6d408>"
      ]
     },
     "execution_count": 19,
     "metadata": {},
     "output_type": "execute_result"
    },
    {
     "data": {
      "image/png": "[encoded data removed]",
      "text/plain": [
       "<Figure size 432x288 with 2 Axes>"
      ]
     },
     "metadata": {
      "needs_background": "light"
     },
     "output_type": "display_data"
    }
   ],
   "source": [
    "plot_confusion_matrix(boost_c, X_test, y_test, cmap='Blues')"
   ]
  },
  {
   "cell_type": "code",
   "execution_count": 20,
   "metadata": {},
   "outputs": [
    {
     "name": "stdout",
     "output_type": "stream",
     "text": [
      "--- 43.98436093330383 seconds ---\n",
      "0.7335803418504666\n",
      "0.7224047535826634\n",
      "--- 1.3005383014678955 seconds ---\n"
     ]
    }
   ],
   "source": [
    "start_time = time.time()\n",
    "\n",
    "boost_c_smote = GradientBoostingClassifier(learning_rate=0.1, n_estimators=1000, max_depth=2, subsample=0.5, max_features='sqrt')\n",
    "\n",
    "boost_c_smote.fit(X_train_res, y_train_res)\n",
    "\n",
    "print(\"--- %s seconds ---\" % (time.time() - start_time))\n",
    "\n",
    "start_time = time.time()\n",
    "\n",
    "print(boost_c_smote.score(X_train, y_train))\n",
    "print(boost_c_smote.score(X_test, y_test))\n",
    "\n",
    "print(\"--- %s seconds ---\" % (time.time() - start_time))"
   ]
  },
  {
   "cell_type": "code",
   "execution_count": 21,
   "metadata": {},
   "outputs": [
    {
     "data": {
      "text/plain": [
       "<sklearn.metrics._plot.confusion_matrix.ConfusionMatrixDisplay at 0x17e3e065e48>"
      ]
     },
     "execution_count": 21,
     "metadata": {},
     "output_type": "execute_result"
    },
    {
     "data": {
      "image/png": "[encoded data removed]",
      "text/plain": [
       "<Figure size 432x288 with 2 Axes>"
      ]
     },
     "metadata": {
      "needs_background": "light"
     },
     "output_type": "display_data"
    }
   ],
   "source": [
    "plot_confusion_matrix(boost_c_smote, X_test, y_test, cmap='Blues')"
   ]
  },
  {
   "cell_type": "code",
   "execution_count": 22,
   "metadata": {},
   "outputs": [
    {
     "data": {
      "text/plain": [
       "<sklearn.metrics._plot.confusion_matrix.ConfusionMatrixDisplay at 0x17e3f4cb8c8>"
      ]
     },
     "execution_count": 22,
     "metadata": {},
     "output_type": "execute_result"
    },
    {
     "data": {
      "image/png": "[encoded data removed]",
      "text/plain": [
       "<Figure size 432x288 with 2 Axes>"
      ]
     },
     "metadata": {
      "needs_background": "light"
     },
     "output_type": "display_data"
    }
   ],
   "source": [
    "plot_confusion_matrix(boost_c_smote, X_train_res, y_train_res, cmap='Blues')"
   ]
  },
  {
   "cell_type": "code",
   "execution_count": 23,
   "metadata": {},
   "outputs": [],
   "source": [
    "# start_time = time.time()\n",
    "\n",
    "# xboost_c = XGBClassifier(n_estimators=1000, max_depth=2, subsample=0.5, eta=0.1, colsample_bytree=0.7, objective='multi:softmax', num_class=3)\n",
    "\n",
    "# xboost_c.fit(X_train_scale, y_train)\n",
    "\n",
    "# print(\"--- %s seconds ---\" % (time.time() - start_time))\n",
    "\n",
    "# start_time = time.time()\n",
    "\n",
    "# print(xboost_c.score(X_train_scale, y_train))\n",
    "# print(xboost_c.score(X_test_scale, y_test))\n",
    "\n",
    "# print(\"--- %s seconds ---\" % (time.time() - start_time))"
   ]
  },
  {
   "cell_type": "code",
   "execution_count": 24,
   "metadata": {},
   "outputs": [],
   "source": [
    "# plot_confusion_matrix(xboost_c, X_test_scale, y_test, cmap='Blues')"
   ]
  },
  {
   "cell_type": "markdown",
   "metadata": {},
   "source": [
    "_________________________________________________________________________________________________"
   ]
  },
  {
   "cell_type": "code",
   "execution_count": 28,
   "metadata": {},
   "outputs": [],
   "source": [
    "# #Perform dummy regression on numerical variable for baseline\n",
    "\n",
    "# dummyReg2 = DummyRegressor(strategy = 'mean')\n",
    "# dummyReg2.fit(X_train2, y_train2)\n",
    "\n",
    "# dummy_pred = dummyReg2.predict(X_test2)\n",
    "\n",
    "# print(dummyReg.score(X_train2, y_train2))\n",
    "# print(dummyReg.score(X_test2, y_test2))"
   ]
  },
  {
   "cell_type": "code",
   "execution_count": 29,
   "metadata": {},
   "outputs": [],
   "source": [
    "# dummy_error = dummy_pred - y_test2\n",
    "\n",
    "# plt.scatter(y_test2, dummy_error)\n",
    "\n",
    "# x = np.linspace(-20,25,100)\n",
    "# y = -1*x\n",
    "# plt.plot(x, y, '-r')"
   ]
  },
  {
   "cell_type": "code",
   "execution_count": 30,
   "metadata": {},
   "outputs": [],
   "source": [
    "# plt.hist(dummy_pred)\n",
    "# plt.show()"
   ]
  },
  {
   "cell_type": "code",
   "execution_count": 31,
   "metadata": {},
   "outputs": [],
   "source": [
    "# start_time = time.time()\n",
    "\n",
    "# boost_r2 = GradientBoostingRegressor(learning_rate=0.1, n_estimators=1000, max_depth=2, subsample=0.5, max_features='sqrt')\n",
    "\n",
    "# boost_r2.fit(X_train_scale2, y_train2)\n",
    "\n",
    "# print(\"--- %s seconds ---\" % (time.time() - start_time))\n",
    "\n",
    "# start_time = time.time()\n",
    "\n",
    "# print(boost_r2.score(X_train_scale2, y_train2))\n",
    "# print(boost_r2.score(X_test_scale2, y_test2))\n",
    "\n",
    "# boost_pred_train = boost_r2.predict(X_train_scale2)\n",
    "# boost_pred = boost_r2.predict(X_test_scale2)\n",
    "\n",
    "# print(\"--- %s seconds ---\" % (time.time() - start_time))"
   ]
  },
  {
   "cell_type": "code",
   "execution_count": 32,
   "metadata": {},
   "outputs": [],
   "source": [
    "# boost_error = boost_pred - y_test2\n",
    "# train_boost_error = boost_pred_train - y_train2\n",
    "\n",
    "# plt.scatter(y_test2, boost_error)\n",
    "# x = np.linspace(-20,25,100)\n",
    "# y = -1*x\n",
    "# plt.plot(x, y, '-r')\n",
    "# plt.show()\n",
    "# plt.scatter(y_train2, train_boost_error)\n",
    "# x = np.linspace(-20,25,100)\n",
    "# y = -1*x\n",
    "# plt.plot(x, y, '-r')\n",
    "# plt.show()"
   ]
  },
  {
   "cell_type": "code",
   "execution_count": 33,
   "metadata": {},
   "outputs": [],
   "source": [
    "# plt.hist(boost_pred, bins=200)\n",
    "# plt.show()\n",
    "# plt.hist(boost_pred_train, bins=200)\n",
    "# plt.show()"
   ]
  },
  {
   "cell_type": "code",
   "execution_count": 34,
   "metadata": {},
   "outputs": [],
   "source": [
    "# start_time = time.time()\n",
    "\n",
    "# xboost_r2 = XGBRegressor(n_estimators=1000, max_depth=3, subsample=0.7, eta=0.1, colsample_bytree=0.7)\n",
    "\n",
    "# xboost_r2.fit(X_train_scale2, y_train2)\n",
    "\n",
    "# print(\"--- %s seconds ---\" % (time.time() - start_time))\n",
    "\n",
    "# start_time = time.time()\n",
    "\n",
    "# print(xboost_r2.score(X_train_scale2, y_train2))\n",
    "# print(xboost_r2.score(X_test_scale2, y_test2))\n",
    "\n",
    "# xboost_pred_train = xboost_r2.predict(X_train_scale2)\n",
    "# xboost_pred = xboost_r2.predict(X_test_scale2)\n",
    "\n",
    "# print(\"--- %s seconds ---\" % (time.time() - start_time))"
   ]
  },
  {
   "cell_type": "code",
   "execution_count": 35,
   "metadata": {},
   "outputs": [],
   "source": [
    "# xboost_error = xboost_pred - y_test2\n",
    "# train_xboost_error = xboost_pred_train - y_train2\n",
    "\n",
    "# plt.scatter(y_test2, xboost_error)\n",
    "# x = np.linspace(-20,25,100)\n",
    "# y = -1*x\n",
    "# plt.plot(x, y, '-r')\n",
    "# plt.show()\n",
    "# plt.scatter(y_train2, train_xboost_error)\n",
    "# x = np.linspace(-20,25,100)\n",
    "# y = -1*x\n",
    "# plt.plot(x, y, '-r')\n",
    "# plt.show()"
   ]
  },
  {
   "cell_type": "code",
   "execution_count": 36,
   "metadata": {},
   "outputs": [],
   "source": [
    "# plt.hist(xboost_pred, bins=200)\n",
    "# plt.show()\n",
    "# plt.hist(xboost_pred_train, bins=200)\n",
    "# plt.show()"
   ]
  }
 ],
 "metadata": {
  "kernelspec": {
   "display_name": "Python 3",
   "language": "python",
   "name": "python3"
  },
  "language_info": {
   "codemirror_mode": {
    "name": "ipython",
    "version": 3
   },
   "file_extension": ".py",
   "mimetype": "text/x-python",
   "name": "python",
   "nbconvert_exporter": "python",
   "pygments_lexer": "ipython3",
   "version": "3.7.4"
  }
 },
 "nbformat": 4,
 "nbformat_minor": 2
}
