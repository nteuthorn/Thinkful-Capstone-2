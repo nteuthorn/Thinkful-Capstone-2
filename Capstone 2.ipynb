{
 "cells": [
  {
   "cell_type": "code",
   "execution_count": 1,
   "metadata": {},
   "outputs": [],
   "source": [
    "#Import libraries\n",
    "\n",
    "import pandas as pd\n",
    "import numpy as np\n",
    "import matplotlib.pyplot as plt\n",
    "import seaborn as sns\n",
    "import time\n",
    "import itertools\n",
    "import scipy.stats as stats\n",
    "from scipy.stats.mstats import winsorize\n",
    "\n",
    "from sklearn.model_selection import train_test_split, cross_val_score, GridSearchCV, RandomizedSearchCV\n",
    "from sklearn.decomposition import PCA\n",
    "from sklearn.dummy import DummyClassifier, DummyRegressor\n",
    "from sklearn.linear_model import LogisticRegression, LinearRegression\n",
    "from sklearn.ensemble import RandomForestRegressor, RandomForestClassifier, GradientBoostingClassifier, GradientBoostingRegressor\n",
    "from sklearn.svm import SVC, SVR\n",
    "from sklearn.preprocessing import StandardScaler\n",
    "from sklearn.metrics import confusion_matrix, plot_confusion_matrix, classification_report\n",
    "from xgboost import XGBClassifier, XGBRegressor\n",
    "\n",
    "from imblearn.over_sampling import SMOTE\n",
    "from imblearn.under_sampling import RandomUnderSampler"
   ]
  },
  {
   "cell_type": "code",
   "execution_count": 2,
   "metadata": {},
   "outputs": [],
   "source": [
    "#Import 2015 and 2017 census data, change column names to be consistent across datasets\n",
    "\n",
    "df2015 = pd.read_csv('acs2015_census_tract_data.csv')\n",
    "\n",
    "df2017 = pd.read_csv('acs2017_census_tract_data.csv')\n",
    "df2017.rename({'TractId': 'CensusTract', 'VotingAgeCitizen': 'Citizen'}, axis=1, inplace=True)"
   ]
  },
  {
   "cell_type": "code",
   "execution_count": 3,
   "metadata": {},
   "outputs": [],
   "source": [
    "#Change count statistics to percentages based on total population; remove %women because of perfect multicollinearity with %men\n",
    "\n",
    "df2015['Men'] = df2015['Men']/df2015['TotalPop']\n",
    "df2015['Citizen'] = df2015['Citizen']/df2015['TotalPop']\n",
    "df2015['Employed'] = df2015['Employed']/df2015['TotalPop']\n",
    "df2015.drop(['CensusTract', 'Women'], axis=1, inplace=True)\n",
    "\n",
    "df2017['Men'] = df2017['Men']/df2017['TotalPop']\n",
    "df2017['Citizen'] = df2017['Citizen']/df2017['TotalPop']\n",
    "df2017['Employed'] = df2017['Employed']/df2017['TotalPop']\n",
    "df2017.drop(['CensusTract', 'Women'], axis=1, inplace=True)"
   ]
  },
  {
   "cell_type": "code",
   "execution_count": 4,
   "metadata": {},
   "outputs": [],
   "source": [
    "#Create df_diff as change from 2015 to 2017\n",
    "#Add Poverty_Change variable as categorical, -1=significant decrease in poverty, 0=no significant change, +1=significant increase in poverty\n",
    "\n",
    "df_diff = df2017.copy()\n",
    "df_diff.drop(['State', 'County'], axis=1, inplace=True)\n",
    "for col in df_diff:\n",
    "        df_diff[col] = df2017[col] - df2015[col]\n",
    "df_diff['Poverty_Change'] = 0\n",
    "df_diff.loc[(df_diff['Poverty'] >= 1.5), 'Poverty_Change'] = 1\n",
    "df_diff.loc[(df_diff['Poverty'] <= -1.5), 'Poverty_Change'] = -1\n",
    "\n",
    "#Add poverty change to 2015 dataset\n",
    "df2015['Poverty_Change'] = df_diff['Poverty_Change']\n",
    "df2015['Poverty_Change_val'] = df_diff['Poverty']\n",
    "\n",
    "df2015['Poverty_Change_2c'] = 0\n",
    "df2015.loc[(df2015['Poverty_Change_val'] < 0), 'Poverty_Change_2c'] = 1"
   ]
  },
  {
   "cell_type": "code",
   "execution_count": 5,
   "metadata": {},
   "outputs": [],
   "source": [
    "#Create PCA components for a combination of 'State' and 'County' variables\n",
    "\n",
    "pca = PCA(n_components=10)\n",
    "principal_components = pca.fit_transform(pd.concat([pd.get_dummies(df2015['State']), pd.get_dummies(df2015['County'])], axis=1))\n",
    "\n",
    "principalDf = pd.DataFrame(data = principal_components)\n",
    "df2015 = pd.concat([df2015, principalDf], axis=1)"
   ]
  },
  {
   "cell_type": "code",
   "execution_count": 6,
   "metadata": {},
   "outputs": [],
   "source": [
    "#Drop null values\n",
    "\n",
    "df2015.dropna(inplace=True)\n",
    "df_diff.dropna(inplace=True)"
   ]
  },
  {
   "cell_type": "code",
   "execution_count": 7,
   "metadata": {},
   "outputs": [
    {
     "name": "stdout",
     "output_type": "stream",
     "text": [
      "TotalPop\n",
      "There are 66 tracts identified as outliers.\n",
      "Men\n",
      "There are 160 tracts identified as outliers.\n",
      "Hispanic\n",
      "There are 0 tracts identified as outliers.\n",
      "White\n",
      "There are 0 tracts identified as outliers.\n",
      "Black\n",
      "There are 2367 tracts identified as outliers.\n",
      "Native\n",
      "There are 3223 tracts identified as outliers.\n",
      "Asian\n",
      "There are 2205 tracts identified as outliers.\n",
      "Pacific\n",
      "There are 8847 tracts identified as outliers.\n",
      "Citizen\n",
      "There are 2 tracts identified as outliers.\n",
      "Income\n",
      "There are 22 tracts identified as outliers.\n",
      "IncomeErr\n",
      "There are 223 tracts identified as outliers.\n",
      "IncomePerCap\n",
      "There are 221 tracts identified as outliers.\n",
      "IncomePerCapErr\n",
      "There are 688 tracts identified as outliers.\n",
      "Poverty\n",
      "There are 0 tracts identified as outliers.\n",
      "ChildPoverty\n",
      "There are 0 tracts identified as outliers.\n",
      "Professional\n",
      "There are 0 tracts identified as outliers.\n",
      "Service\n",
      "There are 1 tracts identified as outliers.\n",
      "Office\n",
      "There are 1 tracts identified as outliers.\n",
      "Construction\n",
      "There are 35 tracts identified as outliers.\n",
      "Production\n",
      "There are 0 tracts identified as outliers.\n",
      "Drive\n",
      "There are 345 tracts identified as outliers.\n",
      "Carpool\n",
      "There are 19 tracts identified as outliers.\n",
      "Transit\n",
      "There are 3709 tracts identified as outliers.\n",
      "Walk\n",
      "There are 1545 tracts identified as outliers.\n",
      "OtherTransp\n",
      "There are 501 tracts identified as outliers.\n",
      "WorkAtHome\n",
      "There are 89 tracts identified as outliers.\n",
      "MeanCommute\n",
      "There are 0 tracts identified as outliers.\n",
      "Employed\n",
      "There are 0 tracts identified as outliers.\n",
      "PrivateWork\n",
      "There are 16 tracts identified as outliers.\n",
      "PublicWork\n",
      "There are 76 tracts identified as outliers.\n",
      "SelfEmployed\n",
      "There are 25 tracts identified as outliers.\n",
      "FamilyWork\n",
      "There are 16564 tracts identified as outliers.\n",
      "Unemployment\n",
      "There are 73 tracts identified as outliers.\n",
      "Poverty_Change\n",
      "There are 0 tracts identified as outliers.\n",
      "Poverty_Change_val\n",
      "There are 22 tracts identified as outliers.\n",
      "Poverty_Change_2c\n",
      "There are 0 tracts identified as outliers.\n",
      "0\n",
      "There are 7933 tracts identified as outliers.\n",
      "1\n",
      "There are 9985 tracts identified as outliers.\n",
      "2\n",
      "There are 14089 tracts identified as outliers.\n",
      "3\n",
      "There are 4109 tracts identified as outliers.\n",
      "4\n",
      "There are 3106 tracts identified as outliers.\n",
      "5\n",
      "There are 3209 tracts identified as outliers.\n",
      "6\n",
      "There are 5781 tracts identified as outliers.\n",
      "7\n",
      "There are 0 tracts identified as outliers.\n",
      "8\n",
      "There are 5592 tracts identified as outliers.\n",
      "9\n",
      "There are 5623 tracts identified as outliers.\n",
      "TotalPop\n",
      "There are 887 tracts identified as outliers.\n",
      "Men\n",
      "There are 83 tracts identified as outliers.\n",
      "Hispanic\n",
      "There are 1336 tracts identified as outliers.\n",
      "White\n",
      "There are 290 tracts identified as outliers.\n",
      "Black\n",
      "There are 3661 tracts identified as outliers.\n",
      "Native\n",
      "There are 32067 tracts identified as outliers.\n",
      "Asian\n",
      "There are 4721 tracts identified as outliers.\n",
      "Pacific\n",
      "There are 10419 tracts identified as outliers.\n",
      "Citizen\n",
      "There are 163 tracts identified as outliers.\n",
      "Income\n",
      "There are 655 tracts identified as outliers.\n",
      "IncomeErr\n",
      "There are 765 tracts identified as outliers.\n",
      "IncomePerCap\n",
      "There are 964 tracts identified as outliers.\n",
      "IncomePerCapErr\n",
      "There are 2951 tracts identified as outliers.\n",
      "Poverty\n",
      "There are 340 tracts identified as outliers.\n",
      "ChildPoverty\n",
      "There are 717 tracts identified as outliers.\n",
      "Professional\n",
      "There are 69 tracts identified as outliers.\n",
      "Service\n",
      "There are 169 tracts identified as outliers.\n",
      "Office\n",
      "There are 83 tracts identified as outliers.\n",
      "Construction\n",
      "There are 305 tracts identified as outliers.\n",
      "Production\n",
      "There are 267 tracts identified as outliers.\n",
      "Drive\n",
      "There are 147 tracts identified as outliers.\n",
      "Carpool\n",
      "There are 269 tracts identified as outliers.\n",
      "Transit\n",
      "There are 7794 tracts identified as outliers.\n",
      "Walk\n",
      "There are 3191 tracts identified as outliers.\n",
      "OtherTransp\n",
      "There are 2348 tracts identified as outliers.\n",
      "WorkAtHome\n",
      "There are 558 tracts identified as outliers.\n",
      "MeanCommute\n",
      "There are 255 tracts identified as outliers.\n",
      "Employed\n",
      "There are 52 tracts identified as outliers.\n",
      "PrivateWork\n",
      "There are 124 tracts identified as outliers.\n",
      "PublicWork\n",
      "There are 179 tracts identified as outliers.\n",
      "SelfEmployed\n",
      "There are 270 tracts identified as outliers.\n",
      "FamilyWork\n",
      "There are 18954 tracts identified as outliers.\n",
      "Unemployment\n",
      "There are 395 tracts identified as outliers.\n",
      "Poverty_Change\n",
      "There are 0 tracts identified as outliers.\n"
     ]
    }
   ],
   "source": [
    "#Winsorize outliers\n",
    "\n",
    "for col in df2015.columns[2:]:\n",
    "    threshold = 5\n",
    "    q75, q25 = np.percentile(df2015[col], [75,25])\n",
    "    iqr = q75-q25\n",
    "    min_val = q25 - (iqr*threshold)\n",
    "    max_val = q75 + (iqr*threshold)\n",
    "\n",
    "    outliers = df2015[(df2015[col] > max_val) | (df2015[col] < min_val)]\n",
    "    print(col)\n",
    "    print('There are {} tracts identified as outliers.'.format(outliers.shape[0]))\n",
    "\n",
    "    df2015[col] = pd.Series(winsorize(df2015[col], limits = (outliers.shape[0]/df2015[col].shape[0])))\n",
    "\n",
    "for col in df_diff.columns:\n",
    "    threshold = 3\n",
    "    q75, q25 = np.percentile(df_diff[col], [75,25])\n",
    "    iqr = q75-q25\n",
    "    min_val = q25 - (iqr*threshold)\n",
    "    max_val = q75 + (iqr*threshold)\n",
    "\n",
    "    outliers = df_diff[(df_diff[col] > max_val) | (df_diff[col] < min_val)]\n",
    "    print(col)\n",
    "    print('There are {} tracts identified as outliers.'.format(outliers.shape[0]))\n",
    "\n",
    "    df_diff[col] = pd.Series(winsorize(df_diff[col], limits = (outliers.shape[0]/df_diff[col].shape[0])))"
   ]
  },
  {
   "cell_type": "code",
   "execution_count": 8,
   "metadata": {},
   "outputs": [],
   "source": [
    "#Drop null values\n",
    "\n",
    "df2015.dropna(inplace=True)\n",
    "df_diff.dropna(inplace=True)"
   ]
  },
  {
   "cell_type": "code",
   "execution_count": 55,
   "metadata": {},
   "outputs": [],
   "source": [
    "#Create y-variable as categorical poverty change, X variable as all 2015 statistics\n",
    "#Perform train test split; also create \"small\" dataset for faster computation during testing\n",
    "#Create scaled dataset for use when necessary\n",
    "\n",
    "y = df2015['Poverty_Change']\n",
    "\n",
    "#Remove ChildPoverty and PrivateWork for too much correlation with Poverty and PublicWork respectively\n",
    "\n",
    "X = df2015.drop(['State', 'County', 'Poverty_Change', 'Poverty_Change_val', 'Poverty_Change_2c', 'ChildPoverty', 'PrivateWork'], axis=1)\n",
    "\n",
    "# df_small = df2015.sample(frac=0.1)\n",
    "# y_small = df_small['Poverty_Change_2c']\n",
    "# X_small = df_small.drop(['State', 'County', 'Poverty_Change', 'Poverty_Change_val', 'Poverty_Change_2c'], axis=1)\n",
    "\n",
    "X_train, X_test, y_train, y_test = train_test_split(X,y,test_size=0.2)\n",
    "# X_train_s, X_test_s, y_train_s, y_test_s = train_test_split(X_small,y_small,test_size=0.2)\n",
    "\n",
    "scaler = StandardScaler()\n",
    "X_train_scale = pd.DataFrame(scaler.fit_transform(X_train), columns = X_train.columns)\n",
    "X_test_scale = pd.DataFrame(scaler.fit_transform(X_test), columns = X_test.columns)\n",
    "# X_train_s_scale = pd.DataFrame(scaler.fit_transform(X_train_s), columns = X_train_s.columns)\n",
    "# X_test_s_scale = pd.DataFrame(scaler.fit_transform(X_test_s), columns = X_test_s.columns)"
   ]
  },
  {
   "cell_type": "code",
   "execution_count": 56,
   "metadata": {},
   "outputs": [],
   "source": [
    "#Oversample training data to equalize class sizes\n",
    "\n",
    "sm = SMOTE()\n",
    "\n",
    "X_train_res, y_train_res = sm.fit_resample(X_train_scale, y_train)"
   ]
  },
  {
   "cell_type": "code",
   "execution_count": 11,
   "metadata": {
    "scrolled": true
   },
   "outputs": [
    {
     "name": "stdout",
     "output_type": "stream",
     "text": [
      "0.3871508965710091\n",
      "0.3890248164977281\n"
     ]
    },
    {
     "data": {
      "text/plain": [
       "<sklearn.metrics._plot.confusion_matrix.ConfusionMatrixDisplay at 0x2a9b063ab88>"
      ]
     },
     "execution_count": 11,
     "metadata": {},
     "output_type": "execute_result"
    },
    {
     "data": {
      "image/png": "[encoded data removed]",
      "text/plain": [
       "<Figure size 432x288 with 2 Axes>"
      ]
     },
     "metadata": {
      "needs_background": "light"
     },
     "output_type": "display_data"
    }
   ],
   "source": [
    "#Perform dummy classification for baseline\n",
    "\n",
    "dummy = DummyClassifier(strategy = 'most_frequent')\n",
    "dummy.fit(X_train, y_train)\n",
    "\n",
    "print(dummy.score(X_train, y_train))\n",
    "print(dummy.score(X_test, y_test))\n",
    "\n",
    "plot_confusion_matrix(dummy, X_test, y_test, cmap='Blues')"
   ]
  },
  {
   "cell_type": "markdown",
   "metadata": {},
   "source": [
    "# Multiple models were analyzed, including logistic regression, support vector machines, random forest, and gradient boosting models. Models were tested on unmodified training data (scaled where appropriate) and oversampled data. Logistic regression trained on oversampled data was determined to be the best model due to highest recall for the +1 class while maintaining a similar overall accuracy score to the other models."
   ]
  },
  {
   "cell_type": "markdown",
   "metadata": {},
   "source": [
    "Perform analysis on a series of logistic regression models to identify best parameters"
   ]
  },
  {
   "cell_type": "code",
   "execution_count": 12,
   "metadata": {},
   "outputs": [
    {
     "name": "stdout",
     "output_type": "stream",
     "text": [
      "0.5172323394735923\n",
      "0.5156239077245718\n",
      "--- 4.039045095443726 seconds ---\n"
     ]
    },
    {
     "data": {
      "text/plain": [
       "<sklearn.metrics._plot.confusion_matrix.ConfusionMatrixDisplay at 0x2a9b0aed8c8>"
      ]
     },
     "execution_count": 12,
     "metadata": {},
     "output_type": "execute_result"
    },
    {
     "data": {
      "image/png": "[encoded data removed]",
      "text/plain": [
       "<Figure size 432x288 with 2 Axes>"
      ]
     },
     "metadata": {
      "needs_background": "light"
     },
     "output_type": "display_data"
    }
   ],
   "source": [
    "start_time = time.time()\n",
    "\n",
    "logit = LogisticRegression(max_iter=10000)\n",
    "\n",
    "logit.fit(X_train_scale, y_train)\n",
    "print(logit.score(X_train_scale, y_train))\n",
    "print(logit.score(X_test_scale, y_test))\n",
    "\n",
    "print(\"--- %s seconds ---\" % (time.time() - start_time))\n",
    "\n",
    "plot_confusion_matrix(logit, X_test_scale, y_test, cmap='Blues')"
   ]
  },
  {
   "cell_type": "code",
   "execution_count": 13,
   "metadata": {},
   "outputs": [
    {
     "name": "stdout",
     "output_type": "stream",
     "text": [
      "0.4882779583483809\n",
      "0.49449473941766575\n",
      "0.4859839217056973\n",
      "--- 23.664801597595215 seconds ---\n"
     ]
    },
    {
     "data": {
      "text/plain": [
       "<sklearn.metrics._plot.confusion_matrix.ConfusionMatrixDisplay at 0x2a9b062d4c8>"
      ]
     },
     "execution_count": 13,
     "metadata": {},
     "output_type": "execute_result"
    },
    {
     "data": {
      "image/png": "[encoded data removed]",
      "text/plain": [
       "<Figure size 432x288 with 2 Axes>"
      ]
     },
     "metadata": {
      "needs_background": "light"
     },
     "output_type": "display_data"
    }
   ],
   "source": [
    "start_time = time.time()\n",
    "\n",
    "logit_smote_saga = LogisticRegression(max_iter=10000, solver='saga')\n",
    "\n",
    "logit_smote_saga.fit(X_train_res, y_train_res)\n",
    "print(logit_smote_saga.score(X_train_res, y_train_res))\n",
    "print(logit_smote_saga.score(X_train_scale, y_train))\n",
    "print(logit_smote_saga.score(X_test_scale, y_test))\n",
    "\n",
    "print(\"--- %s seconds ---\" % (time.time() - start_time))\n",
    "\n",
    "plot_confusion_matrix(logit_smote_saga, X_test_scale, y_test, cmap='Blues')"
   ]
  },
  {
   "cell_type": "code",
   "execution_count": 14,
   "metadata": {},
   "outputs": [
    {
     "name": "stdout",
     "output_type": "stream",
     "text": [
      "0.488353196099675\n",
      "0.49461707854171766\n",
      "0.4861936385879063\n",
      "--- 12.80456256866455 seconds ---\n"
     ]
    },
    {
     "data": {
      "text/plain": [
       "<sklearn.metrics._plot.confusion_matrix.ConfusionMatrixDisplay at 0x2a9b0c4cb88>"
      ]
     },
     "execution_count": 14,
     "metadata": {},
     "output_type": "execute_result"
    },
    {
     "data": {
      "image/png": "[encoded data removed]",
      "text/plain": [
       "<Figure size 432x288 with 2 Axes>"
      ]
     },
     "metadata": {
      "needs_background": "light"
     },
     "output_type": "display_data"
    }
   ],
   "source": [
    "start_time = time.time()\n",
    "\n",
    "logit_smote_saga2 = LogisticRegression(max_iter=10000, solver='saga', penalty='l1')\n",
    "\n",
    "logit_smote_saga2.fit(X_train_res, y_train_res)\n",
    "print(logit_smote_saga2.score(X_train_res, y_train_res))\n",
    "print(logit_smote_saga2.score(X_train_scale, y_train))\n",
    "print(logit_smote_saga2.score(X_test_scale, y_test))\n",
    "\n",
    "print(\"--- %s seconds ---\" % (time.time() - start_time))\n",
    "\n",
    "plot_confusion_matrix(logit_smote_saga2, X_test_scale, y_test, cmap='Blues')"
   ]
  },
  {
   "cell_type": "code",
   "execution_count": 15,
   "metadata": {},
   "outputs": [
    {
     "name": "stdout",
     "output_type": "stream",
     "text": [
      "0.48833814854941615\n",
      "0.49458212450627426\n",
      "0.4860538273331003\n",
      "--- 39.4800968170166 seconds ---\n"
     ]
    },
    {
     "data": {
      "text/plain": [
       "<sklearn.metrics._plot.confusion_matrix.ConfusionMatrixDisplay at 0x2a9b0c4c148>"
      ]
     },
     "execution_count": 15,
     "metadata": {},
     "output_type": "execute_result"
    },
    {
     "data": {
      "image/png": "[encoded data removed]",
      "text/plain": [
       "<Figure size 432x288 with 2 Axes>"
      ]
     },
     "metadata": {
      "needs_background": "light"
     },
     "output_type": "display_data"
    }
   ],
   "source": [
    "start_time = time.time()\n",
    "\n",
    "logit_smote_saga3 = LogisticRegression(max_iter=10000, solver='saga', penalty='elasticnet', l1_ratio=0.5)\n",
    "\n",
    "logit_smote_saga3.fit(X_train_res, y_train_res)\n",
    "print(logit_smote_saga3.score(X_train_res, y_train_res))\n",
    "print(logit_smote_saga3.score(X_train_scale, y_train))\n",
    "print(logit_smote_saga3.score(X_test_scale, y_test))\n",
    "\n",
    "print(\"--- %s seconds ---\" % (time.time() - start_time))\n",
    "\n",
    "plot_confusion_matrix(logit_smote_saga3, X_test_scale, y_test, cmap='Blues')"
   ]
  },
  {
   "cell_type": "code",
   "execution_count": 16,
   "metadata": {},
   "outputs": [
    {
     "name": "stdout",
     "output_type": "stream",
     "text": [
      "0.4885488142530396\n",
      "0.4964521654024957\n",
      "0.48975882558545963\n",
      "--- 44.74257564544678 seconds ---\n"
     ]
    },
    {
     "data": {
      "text/plain": [
       "<sklearn.metrics._plot.confusion_matrix.ConfusionMatrixDisplay at 0x2a9b0ff4688>"
      ]
     },
     "execution_count": 16,
     "metadata": {},
     "output_type": "execute_result"
    },
    {
     "data": {
      "image/png": "[encoded data removed]",
      "text/plain": [
       "<Figure size 432x288 with 2 Axes>"
      ]
     },
     "metadata": {
      "needs_background": "light"
     },
     "output_type": "display_data"
    }
   ],
   "source": [
    "start_time = time.time()\n",
    "\n",
    "logit_smote_saga_ovr = LogisticRegression(max_iter=10000, solver='saga', multi_class='ovr')\n",
    "\n",
    "logit_smote_saga_ovr.fit(X_train_res, y_train_res)\n",
    "print(logit_smote_saga_ovr.score(X_train_res, y_train_res))\n",
    "print(logit_smote_saga_ovr.score(X_train_scale, y_train))\n",
    "print(logit_smote_saga_ovr.score(X_test_scale, y_test))\n",
    "\n",
    "print(\"--- %s seconds ---\" % (time.time() - start_time))\n",
    "\n",
    "plot_confusion_matrix(logit_smote_saga_ovr, X_test_scale, y_test, cmap='Blues')"
   ]
  },
  {
   "cell_type": "code",
   "execution_count": 17,
   "metadata": {},
   "outputs": [
    {
     "name": "stdout",
     "output_type": "stream",
     "text": [
      "0.488518719152522\n",
      "0.4964521654024957\n",
      "0.48954910870325063\n",
      "--- 7.096336603164673 seconds ---\n"
     ]
    },
    {
     "data": {
      "text/plain": [
       "<sklearn.metrics._plot.confusion_matrix.ConfusionMatrixDisplay at 0x2a9b0fe5b08>"
      ]
     },
     "execution_count": 17,
     "metadata": {},
     "output_type": "execute_result"
    },
    {
     "data": {
      "image/png": "[encoded data removed]",
      "text/plain": [
       "<Figure size 432x288 with 2 Axes>"
      ]
     },
     "metadata": {
      "needs_background": "light"
     },
     "output_type": "display_data"
    }
   ],
   "source": [
    "start_time = time.time()\n",
    "\n",
    "logit_smote_saga_ovr2 = LogisticRegression(max_iter=10000, solver='saga', multi_class='ovr', penalty='l1')\n",
    "\n",
    "logit_smote_saga_ovr2.fit(X_train_res, y_train_res)\n",
    "print(logit_smote_saga_ovr2.score(X_train_res, y_train_res))\n",
    "print(logit_smote_saga_ovr2.score(X_train_scale, y_train))\n",
    "print(logit_smote_saga_ovr2.score(X_test_scale, y_test))\n",
    "\n",
    "print(\"--- %s seconds ---\" % (time.time() - start_time))\n",
    "\n",
    "plot_confusion_matrix(logit_smote_saga_ovr2, X_test_scale, y_test, cmap='Blues')"
   ]
  },
  {
   "cell_type": "code",
   "execution_count": 18,
   "metadata": {},
   "outputs": [
    {
     "name": "stdout",
     "output_type": "stream",
     "text": [
      "0.4886090044540749\n",
      "0.4965395504911042\n",
      "0.48975882558545963\n",
      "--- 14.733221054077148 seconds ---\n"
     ]
    },
    {
     "data": {
      "text/plain": [
       "<sklearn.metrics._plot.confusion_matrix.ConfusionMatrixDisplay at 0x2a9b23a38c8>"
      ]
     },
     "execution_count": 18,
     "metadata": {},
     "output_type": "execute_result"
    },
    {
     "data": {
      "image/png": "[encoded data removed]",
      "text/plain": [
       "<Figure size 432x288 with 2 Axes>"
      ]
     },
     "metadata": {
      "needs_background": "light"
     },
     "output_type": "display_data"
    }
   ],
   "source": [
    "start_time = time.time()\n",
    "\n",
    "logit_smote_saga_ovr3 = LogisticRegression(max_iter=10000, solver='saga', multi_class='ovr', penalty='elasticnet', l1_ratio=0.5)\n",
    "\n",
    "logit_smote_saga_ovr3.fit(X_train_res, y_train_res)\n",
    "print(logit_smote_saga_ovr3.score(X_train_res, y_train_res))\n",
    "print(logit_smote_saga_ovr3.score(X_train_scale, y_train))\n",
    "print(logit_smote_saga_ovr3.score(X_test_scale, y_test))\n",
    "\n",
    "print(\"--- %s seconds ---\" % (time.time() - start_time))\n",
    "\n",
    "plot_confusion_matrix(logit_smote_saga_ovr3, X_test_scale, y_test, cmap='Blues')"
   ]
  },
  {
   "cell_type": "markdown",
   "metadata": {},
   "source": [
    "# After analyzing multiple parameters in logistic regression, including normalization levels (C parameter), multivariate analysis method, and loss function, the best model was determined to be a multivariate analysis with L2 loss. Normalization level did not have a significant impact on any of the models, so C=1 was chosen for best run time."
   ]
  },
  {
   "cell_type": "code",
   "execution_count": 19,
   "metadata": {},
   "outputs": [],
   "source": [
    "# c = [0.1, 0.5, 1, 10, 20, 40 ,70, 90, 100]"
   ]
  },
  {
   "cell_type": "code",
   "execution_count": 20,
   "metadata": {},
   "outputs": [],
   "source": [
    "# for i in c:\n",
    "#     start_time = time.time()\n",
    "\n",
    "#     logit_smote_saga = LogisticRegression(max_iter=10000, solver='saga', C=i)\n",
    "\n",
    "#     logit_smote_saga.fit(X_train_res, y_train_res)\n",
    "#     print(logit_smote_saga.score(X_train_res, y_train_res))\n",
    "#     print(logit_smote_saga.score(X_train_scale, y_train))\n",
    "#     print(logit_smote_saga.score(X_test_scale, y_test))\n",
    "\n",
    "#     print(\"--- %s seconds ---\" % (time.time() - start_time))\n",
    "\n",
    "#     print(plot_confusion_matrix(logit_smote_saga, X_test_scale, y_test, cmap='Blues'))"
   ]
  },
  {
   "cell_type": "markdown",
   "metadata": {},
   "source": [
    "Variations in C make no significant difference in test accuracy or identification of the +1 class."
   ]
  },
  {
   "cell_type": "code",
   "execution_count": 21,
   "metadata": {},
   "outputs": [],
   "source": [
    "# for i in c:\n",
    "#     start_time = time.time()\n",
    "\n",
    "#     logit_smote_saga2 = LogisticRegression(max_iter=10000, solver='saga', penalty='l1', C=i)\n",
    "\n",
    "#     logit_smote_saga2.fit(X_train_res, y_train_res)\n",
    "#     print(logit_smote_saga2.score(X_train_res, y_train_res))\n",
    "#     print(logit_smote_saga2.score(X_train_scale, y_train))\n",
    "#     print(logit_smote_saga2.score(X_test_scale, y_test))\n",
    "\n",
    "#     print(\"--- %s seconds ---\" % (time.time() - start_time))\n",
    "\n",
    "#     print(plot_confusion_matrix(logit_smote_saga2, X_test_scale, y_test, cmap='Blues'))"
   ]
  },
  {
   "cell_type": "markdown",
   "metadata": {},
   "source": [
    "Variations in C make no significant difference in test accuracy or identification of the +1 class."
   ]
  },
  {
   "cell_type": "code",
   "execution_count": 22,
   "metadata": {},
   "outputs": [],
   "source": [
    "# for i in c:\n",
    "#     start_time = time.time()\n",
    "\n",
    "#     logit_smote_saga_ovr = LogisticRegression(max_iter=10000, solver='saga', multi_class='ovr', C=i)\n",
    "\n",
    "#     logit_smote_saga_ovr.fit(X_train_res, y_train_res)\n",
    "#     print(logit_smote_saga_ovr.score(X_train_res, y_train_res))\n",
    "#     print(logit_smote_saga_ovr.score(X_train_scale, y_train))\n",
    "#     print(logit_smote_saga_ovr.score(X_test_scale, y_test))\n",
    "\n",
    "#     print(\"--- %s seconds ---\" % (time.time() - start_time))\n",
    "\n",
    "#     print(plot_confusion_matrix(logit_smote_saga_ovr, X_test_scale, y_test, cmap='Blues'))"
   ]
  },
  {
   "cell_type": "markdown",
   "metadata": {},
   "source": [
    "Variations in C make no significant difference in test accuracy or identification of the +1 class."
   ]
  },
  {
   "cell_type": "code",
   "execution_count": 23,
   "metadata": {},
   "outputs": [],
   "source": [
    "# for i in c:\n",
    "#     start_time = time.time()\n",
    "\n",
    "#     logit_smote_saga_ovr2 = LogisticRegression(max_iter=10000, solver='saga', multi_class='ovr', penalty='l1', C=i)\n",
    "\n",
    "#     logit_smote_saga_ovr2.fit(X_train_res, y_train_res)\n",
    "#     print(logit_smote_saga_ovr2.score(X_train_res, y_train_res))\n",
    "#     print(logit_smote_saga_ovr2.score(X_train_scale, y_train))\n",
    "#     print(logit_smote_saga_ovr2.score(X_test_scale, y_test))\n",
    "\n",
    "#     print(\"--- %s seconds ---\" % (time.time() - start_time))\n",
    "\n",
    "#     print(plot_confusion_matrix(logit_smote_saga_ovr2, X_test_scale, y_test, cmap='Blues'))"
   ]
  },
  {
   "cell_type": "markdown",
   "metadata": {},
   "source": [
    "Variations in C make no significant difference in test accuracy or identification of the +1 class."
   ]
  },
  {
   "cell_type": "code",
   "execution_count": 24,
   "metadata": {},
   "outputs": [
    {
     "name": "stdout",
     "output_type": "stream",
     "text": [
      "0.4882779583483809\n",
      "0.49449473941766575\n",
      "0.4859839217056973\n",
      "--- 24.563348293304443 seconds ---\n"
     ]
    },
    {
     "data": {
      "text/plain": [
       "<sklearn.metrics._plot.confusion_matrix.ConfusionMatrixDisplay at 0x2a9b10ab888>"
      ]
     },
     "execution_count": 24,
     "metadata": {},
     "output_type": "execute_result"
    },
    {
     "data": {
      "image/png": "[encoded data removed]",
      "text/plain": [
       "<Figure size 432x288 with 2 Axes>"
      ]
     },
     "metadata": {
      "needs_background": "light"
     },
     "output_type": "display_data"
    }
   ],
   "source": [
    "start_time = time.time()\n",
    "\n",
    "logit_final = LogisticRegression(max_iter=10000, solver='saga')\n",
    "\n",
    "logit_final.fit(X_train_res, y_train_res)\n",
    "print(logit_final.score(X_train_res, y_train_res))\n",
    "print(logit_final.score(X_train_scale, y_train))\n",
    "print(logit_final.score(X_test_scale, y_test))\n",
    "\n",
    "print(\"--- %s seconds ---\" % (time.time() - start_time))\n",
    "\n",
    "plot_confusion_matrix(logit_final, X_test_scale, y_test, cmap='Blues')"
   ]
  },
  {
   "cell_type": "code",
   "execution_count": 25,
   "metadata": {
    "scrolled": true
   },
   "outputs": [
    {
     "name": "stdout",
     "output_type": "stream",
     "text": [
      "TotalPop\n",
      "-0.11873984384759596\n",
      "Men\n",
      "-0.019605054020887698\n",
      "Hispanic\n",
      "0.11064372111041519\n",
      "White\n",
      "-0.2432711638983321\n",
      "Black\n",
      "0.0637605133680973\n",
      "Native\n",
      "-0.03438599413073055\n",
      "Asian\n",
      "0.009523825949563764\n",
      "Pacific\n",
      "0.0\n",
      "Citizen\n",
      "0.13943802715006784\n",
      "Income\n",
      "-0.25972061170756555\n",
      "IncomeErr\n",
      "-0.03360020344851414\n",
      "IncomePerCap\n",
      "0.16127694912350604\n",
      "IncomePerCapErr\n",
      "-0.10366953240603956\n",
      "Poverty\n",
      "-1.0515689061550098\n",
      "Professional\n",
      "-0.48126346232134637\n",
      "Service\n",
      "-0.19400212817148138\n",
      "Office\n",
      "-0.1889499960578775\n",
      "Construction\n",
      "-0.19204916736469263\n",
      "Production\n",
      "-0.22774912655683072\n",
      "Drive\n",
      "-0.04563730932705226\n",
      "Carpool\n",
      "-0.022407999880941287\n",
      "Transit\n",
      "-0.04071959587341331\n",
      "Walk\n",
      "0.1452873895375643\n",
      "OtherTransp\n",
      "0.020408087958044174\n",
      "WorkAtHome\n",
      "-0.08525549084682674\n",
      "MeanCommute\n",
      "-0.08490990212382887\n",
      "Employed\n",
      "-0.20144039658487628\n",
      "PublicWork\n",
      "0.02555496820710452\n",
      "SelfEmployed\n",
      "-0.05252678494560246\n",
      "FamilyWork\n",
      "0.0\n",
      "Unemployment\n",
      "0.07830545735000907\n",
      "0\n",
      "-0.08457817860913316\n",
      "1\n",
      "0.01843402013162356\n",
      "2\n",
      "0.025105839170013095\n",
      "3\n",
      "-0.03442066343404191\n",
      "4\n",
      "-0.019858526551274933\n",
      "5\n",
      "0.022102303379314035\n",
      "6\n",
      "0.0034348948187972635\n",
      "7\n",
      "-0.035100965647011706\n",
      "8\n",
      "-0.02748911089390545\n",
      "9\n",
      "0.0279673237098261\n"
     ]
    }
   ],
   "source": [
    "for i in range(len(X_test.columns)):\n",
    "    print(X_test.columns[i])\n",
    "    print(logit_smote_saga.coef_[2,i] - logit_smote_saga.coef_[0,i])"
   ]
  },
  {
   "cell_type": "markdown",
   "metadata": {},
   "source": [
    "The most impactful variables in differentiating between the +1 and the -1 classes are the poverty rate (-1.03), the percentage of the population that is white (-0.28), the median household income (-0.25), the percentage of professionals, or the percentage working in business, management, science, and the arts (-0.40), the percentage of the population that is employed (-0.21), the percentage of the population that walks to work (+0.16), income per capita (+0.20), and the percentage of the population that are US citizens (+0.14). A positive coefficient value indicates prediction of the +1 class over the -1 class, and a negative coefficient value indicates prediction of the -1 class over the +1 class."
   ]
  },
  {
   "cell_type": "code",
   "execution_count": 48,
   "metadata": {},
   "outputs": [
    {
     "name": "stdout",
     "output_type": "stream",
     "text": [
      "--- 104.0327639579773 seconds ---\n",
      "0.5635813904715299\n",
      "0.5319119189094722\n",
      "--- 2.775578022003174 seconds ---\n"
     ]
    }
   ],
   "source": [
    "start_time = time.time()\n",
    "\n",
    "boost_c = GradientBoostingClassifier(learning_rate=0.1, n_estimators=1000, max_depth=2, subsample=0.5, max_features='sqrt')\n",
    "\n",
    "boost_c.fit(X_train, y_train)\n",
    "\n",
    "print(\"--- %s seconds ---\" % (time.time() - start_time))\n",
    "\n",
    "start_time = time.time()\n",
    "\n",
    "print(boost_c.score(X_train, y_train))\n",
    "print(boost_c.score(X_test, y_test))\n",
    "\n",
    "print(\"--- %s seconds ---\" % (time.time() - start_time))"
   ]
  },
  {
   "cell_type": "code",
   "execution_count": 49,
   "metadata": {},
   "outputs": [
    {
     "data": {
      "text/plain": [
       "<sklearn.metrics._plot.confusion_matrix.ConfusionMatrixDisplay at 0x2a9b3b3ad88>"
      ]
     },
     "execution_count": 49,
     "metadata": {},
     "output_type": "execute_result"
    },
    {
     "data": {
      "image/png": "[encoded data removed]",
      "text/plain": [
       "<Figure size 432x288 with 2 Axes>"
      ]
     },
     "metadata": {
      "needs_background": "light"
     },
     "output_type": "display_data"
    }
   ],
   "source": [
    "plot_confusion_matrix(boost_c, X_test, y_test, cmap='Blues')"
   ]
  },
  {
   "cell_type": "code",
   "execution_count": 57,
   "metadata": {},
   "outputs": [
    {
     "name": "stdout",
     "output_type": "stream",
     "text": [
      "--- 317.0794219970703 seconds ---\n",
      "0.29938131357265196\n",
      "0.3027612722824187\n",
      "--- 2.6010448932647705 seconds ---\n"
     ]
    }
   ],
   "source": [
    "start_time = time.time()\n",
    "\n",
    "boost_c_smote = GradientBoostingClassifier(learning_rate=0.1, n_estimators=1000, max_depth=3, max_features='sqrt')\n",
    "\n",
    "boost_c_smote.fit(X_train_res, y_train_res)\n",
    "\n",
    "print(\"--- %s seconds ---\" % (time.time() - start_time))\n",
    "\n",
    "start_time = time.time()\n",
    "\n",
    "print(boost_c_smote.score(X_train, y_train))\n",
    "print(boost_c_smote.score(X_test, y_test))\n",
    "\n",
    "print(\"--- %s seconds ---\" % (time.time() - start_time))"
   ]
  },
  {
   "cell_type": "code",
   "execution_count": 58,
   "metadata": {},
   "outputs": [
    {
     "data": {
      "text/plain": [
       "<sklearn.metrics._plot.confusion_matrix.ConfusionMatrixDisplay at 0x2a9b31c2648>"
      ]
     },
     "execution_count": 58,
     "metadata": {},
     "output_type": "execute_result"
    },
    {
     "data": {
      "image/png": "[encoded data removed]",
      "text/plain": [
       "<Figure size 432x288 with 2 Axes>"
      ]
     },
     "metadata": {
      "needs_background": "light"
     },
     "output_type": "display_data"
    }
   ],
   "source": [
    "plot_confusion_matrix(boost_c_smote, X_test, y_test, cmap='Blues')"
   ]
  },
  {
   "cell_type": "code",
   "execution_count": 66,
   "metadata": {},
   "outputs": [
    {
     "name": "stdout",
     "output_type": "stream",
     "text": [
      "--- 57.23988914489746 seconds ---\n",
      "0.3925338180292915\n",
      "0.3951066060817896\n",
      "--- 3.3690030574798584 seconds ---\n"
     ]
    }
   ],
   "source": [
    "start_time = time.time()\n",
    "\n",
    "forest_c_smote = RandomForestClassifier(n_estimators=1000, max_depth=3)\n",
    "\n",
    "forest_c_smote.fit(X_train_res, y_train_res)\n",
    "\n",
    "print(\"--- %s seconds ---\" % (time.time() - start_time))\n",
    "\n",
    "start_time = time.time()\n",
    "\n",
    "print(forest_c_smote.score(X_train, y_train))\n",
    "print(forest_c_smote.score(X_test, y_test))\n",
    "\n",
    "print(\"--- %s seconds ---\" % (time.time() - start_time))"
   ]
  },
  {
   "cell_type": "code",
   "execution_count": 67,
   "metadata": {},
   "outputs": [
    {
     "data": {
      "text/plain": [
       "<sklearn.metrics._plot.confusion_matrix.ConfusionMatrixDisplay at 0x2a9b2fc9948>"
      ]
     },
     "execution_count": 67,
     "metadata": {},
     "output_type": "execute_result"
    },
    {
     "data": {
      "image/png": "[encoded data removed]",
      "text/plain": [
       "<Figure size 432x288 with 2 Axes>"
      ]
     },
     "metadata": {
      "needs_background": "light"
     },
     "output_type": "display_data"
    }
   ],
   "source": [
    "plot_confusion_matrix(forest_c_smote, X_test, y_test, cmap='Blues')"
   ]
  },
  {
   "cell_type": "code",
   "execution_count": 68,
   "metadata": {},
   "outputs": [
    {
     "name": "stdout",
     "output_type": "stream",
     "text": [
      "--- 44.738351583480835 seconds ---\n",
      "0.5046488867139711\n",
      "0.5102411744145404\n",
      "--- 4.875996351242065 seconds ---\n"
     ]
    }
   ],
   "source": [
    "start_time = time.time()\n",
    "\n",
    "forest_c = RandomForestClassifier(n_estimators=1000, max_depth=3)\n",
    "\n",
    "forest_c.fit(X_train, y_train)\n",
    "\n",
    "print(\"--- %s seconds ---\" % (time.time() - start_time))\n",
    "\n",
    "start_time = time.time()\n",
    "\n",
    "print(forest_c.score(X_train, y_train))\n",
    "print(forest_c.score(X_test, y_test))\n",
    "\n",
    "print(\"--- %s seconds ---\" % (time.time() - start_time))"
   ]
  },
  {
   "cell_type": "code",
   "execution_count": 69,
   "metadata": {},
   "outputs": [
    {
     "data": {
      "text/plain": [
       "<sklearn.metrics._plot.confusion_matrix.ConfusionMatrixDisplay at 0x2a9b30c86c8>"
      ]
     },
     "execution_count": 69,
     "metadata": {},
     "output_type": "execute_result"
    },
    {
     "data": {
      "image/png": "[encoded data removed]",
      "text/plain": [
       "<Figure size 432x288 with 2 Axes>"
      ]
     },
     "metadata": {
      "needs_background": "light"
     },
     "output_type": "display_data"
    }
   ],
   "source": [
    "plot_confusion_matrix(forest_c, X_test, y_test, cmap='Blues')"
   ]
  },
  {
   "cell_type": "code",
   "execution_count": 54,
   "metadata": {},
   "outputs": [],
   "source": [
    "corr = df2015.corr()"
   ]
  },
  {
   "cell_type": "code",
   "execution_count": 60,
   "metadata": {},
   "outputs": [
    {
     "data": {
      "text/plain": [
       "Drive                -0.614166\n",
       "Income               -0.190263\n",
       "TotalPop             -0.151456\n",
       "MeanCommute          -0.138182\n",
       "Office               -0.108216\n",
       "Construction         -0.106854\n",
       "White                -0.100095\n",
       "1                    -0.098220\n",
       "Production           -0.083483\n",
       "Carpool              -0.082839\n",
       "IncomePerCap         -0.052361\n",
       "6                    -0.049590\n",
       "Poverty_Change_val   -0.034436\n",
       "IncomeErr            -0.026447\n",
       "Poverty_Change       -0.025395\n",
       "PrivateWork          -0.024870\n",
       "Employed             -0.022496\n",
       "0                    -0.019866\n",
       "4                    -0.009585\n",
       "9                     0.000526\n",
       "Professional          0.013578\n",
       "SelfEmployed          0.014958\n",
       "7                     0.016936\n",
       "PublicWork            0.017340\n",
       "3                     0.017346\n",
       "8                     0.020363\n",
       "Poverty_Change_2c     0.027859\n",
       "Citizen               0.032655\n",
       "Black                 0.032961\n",
       "Native                0.036751\n",
       "Hispanic              0.052904\n",
       "IncomePerCapErr       0.060019\n",
       "5                     0.062187\n",
       "2                     0.064569\n",
       "WorkAtHome            0.071918\n",
       "Men                   0.073374\n",
       "Asian                 0.093712\n",
       "Unemployment          0.111964\n",
       "ChildPoverty          0.190993\n",
       "Service               0.206618\n",
       "OtherTransp           0.282023\n",
       "Poverty               0.316262\n",
       "Transit               0.343523\n",
       "Walk                  1.000000\n",
       "Pacific                    NaN\n",
       "FamilyWork                 NaN\n",
       "Name: Walk, dtype: float64"
      ]
     },
     "execution_count": 60,
     "metadata": {},
     "output_type": "execute_result"
    }
   ],
   "source": [
    "corr['Walk'].sort_values()"
   ]
  },
  {
   "cell_type": "code",
   "execution_count": 63,
   "metadata": {},
   "outputs": [
    {
     "data": {
      "text/plain": [
       "Poverty              -0.624229\n",
       "ChildPoverty         -0.600801\n",
       "Service              -0.595458\n",
       "Production           -0.560606\n",
       "Unemployment         -0.481057\n",
       "Construction         -0.418580\n",
       "Carpool              -0.364063\n",
       "Hispanic             -0.315332\n",
       "Black                -0.291415\n",
       "Office               -0.106758\n",
       "Native               -0.101346\n",
       "Poverty_Change_2c    -0.080736\n",
       "9                    -0.068802\n",
       "PublicWork           -0.061793\n",
       "Walk                 -0.052361\n",
       "8                    -0.037886\n",
       "7                    -0.034058\n",
       "PrivateWork          -0.023524\n",
       "6                    -0.019704\n",
       "OtherTransp          -0.016652\n",
       "Men                  -0.008230\n",
       "Drive                -0.006178\n",
       "1                    -0.005680\n",
       "3                     0.028943\n",
       "4                     0.032946\n",
       "TotalPop              0.035770\n",
       "2                     0.054072\n",
       "5                     0.057187\n",
       "0                     0.060557\n",
       "Transit               0.063476\n",
       "Poverty_Change        0.087864\n",
       "MeanCommute           0.104618\n",
       "Poverty_Change_val    0.121089\n",
       "SelfEmployed          0.167748\n",
       "Asian                 0.266861\n",
       "Citizen               0.274327\n",
       "White                 0.388235\n",
       "WorkAtHome            0.460660\n",
       "Employed              0.508968\n",
       "IncomeErr             0.610718\n",
       "IncomePerCapErr       0.801382\n",
       "Professional          0.816837\n",
       "Income                0.842531\n",
       "IncomePerCap          1.000000\n",
       "Pacific                    NaN\n",
       "FamilyWork                 NaN\n",
       "Name: IncomePerCap, dtype: float64"
      ]
     },
     "execution_count": 63,
     "metadata": {},
     "output_type": "execute_result"
    }
   ],
   "source": [
    "corr['IncomePerCap'].sort_values()"
   ]
  },
  {
   "cell_type": "code",
   "execution_count": 64,
   "metadata": {},
   "outputs": [
    {
     "data": {
      "text/plain": [
       "Hispanic             -0.631301\n",
       "Carpool              -0.333431\n",
       "ChildPoverty         -0.287848\n",
       "2                    -0.284307\n",
       "Service              -0.278033\n",
       "Poverty              -0.274941\n",
       "Construction         -0.245562\n",
       "Transit              -0.241153\n",
       "Asian                -0.236377\n",
       "PrivateWork          -0.220311\n",
       "0                    -0.213585\n",
       "1                    -0.210975\n",
       "TotalPop             -0.201658\n",
       "Production           -0.198877\n",
       "3                    -0.198776\n",
       "MeanCommute          -0.187507\n",
       "4                    -0.176738\n",
       "Unemployment         -0.163836\n",
       "5                    -0.116446\n",
       "OtherTransp          -0.083944\n",
       "Black                -0.076243\n",
       "Poverty_Change_2c    -0.068849\n",
       "9                    -0.046310\n",
       "8                    -0.029636\n",
       "Men                  -0.014855\n",
       "Walk                  0.032655\n",
       "7                     0.034906\n",
       "Native                0.038664\n",
       "IncomeErr             0.044557\n",
       "SelfEmployed          0.048437\n",
       "6                     0.059534\n",
       "Poverty_Change        0.085707\n",
       "Income                0.085762\n",
       "Office                0.103679\n",
       "Poverty_Change_val    0.124403\n",
       "Employed              0.133247\n",
       "WorkAtHome            0.179413\n",
       "IncomePerCapErr       0.203304\n",
       "PublicWork            0.217079\n",
       "Drive                 0.240611\n",
       "IncomePerCap          0.274327\n",
       "Professional          0.311195\n",
       "White                 0.589947\n",
       "Citizen               1.000000\n",
       "Pacific                    NaN\n",
       "FamilyWork                 NaN\n",
       "Name: Citizen, dtype: float64"
      ]
     },
     "execution_count": 64,
     "metadata": {},
     "output_type": "execute_result"
    }
   ],
   "source": [
    "corr['Citizen'].sort_values()"
   ]
  }
 ],
 "metadata": {
  "kernelspec": {
   "display_name": "Python 3",
   "language": "python",
   "name": "python3"
  },
  "language_info": {
   "codemirror_mode": {
    "name": "ipython",
    "version": 3
   },
   "file_extension": ".py",
   "mimetype": "text/x-python",
   "name": "python",
   "nbconvert_exporter": "python",
   "pygments_lexer": "ipython3",
   "version": "3.7.4"
  }
 },
 "nbformat": 4,
 "nbformat_minor": 2
}
